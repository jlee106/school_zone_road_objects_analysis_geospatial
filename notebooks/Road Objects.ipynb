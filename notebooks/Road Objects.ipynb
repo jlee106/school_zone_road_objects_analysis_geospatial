{
 "cells": [
  {
   "cell_type": "markdown",
   "id": "4885d728",
   "metadata": {},
   "source": [
    "### This Project aims to analyse schoolzones and the no. of road objects within a 100m buffer of the school. This data can be further used for further analysis and investigation, in relation to accident/near miss data in the school zones"
   ]
  },
  {
   "cell_type": "code",
   "execution_count": null,
   "id": "40070b8d",
   "metadata": {},
   "outputs": [],
   "source": [
    "#data manipulation libraries\n",
    "import pandas as pd\n",
    "import matplotlib.pyplot as plt\n",
    "%matplotlib inline\n",
    "import numpy as np\n",
    "import seaborn as sns\n",
    "\n",
    "#geospatial libraries\n",
    "import geopandas as gpd\n",
    "\n",
    "#to remove warnings during output\n",
    "import warnings\n",
    "warnings.filterwarnings(\"ignore\")"
   ]
  },
  {
   "cell_type": "code",
   "execution_count": 64,
   "id": "b723dbd5",
   "metadata": {},
   "outputs": [],
   "source": [
    "schoolzone = gpd.read_file(\"./datasets/SCHOOLZONE.shp\")"
   ]
  },
  {
   "cell_type": "code",
   "execution_count": 65,
   "id": "35e045ef",
   "metadata": {},
   "outputs": [
    {
     "data": {
      "text/html": [
       "<div>\n",
       "<style scoped>\n",
       "    .dataframe tbody tr th:only-of-type {\n",
       "        vertical-align: middle;\n",
       "    }\n",
       "\n",
       "    .dataframe tbody tr th {\n",
       "        vertical-align: top;\n",
       "    }\n",
       "\n",
       "    .dataframe thead th {\n",
       "        text-align: right;\n",
       "    }\n",
       "</style>\n",
       "<table border=\"1\" class=\"dataframe\">\n",
       "  <thead>\n",
       "    <tr style=\"text-align: right;\">\n",
       "      <th></th>\n",
       "      <th>SITENAME</th>\n",
       "      <th>INC_CRC</th>\n",
       "      <th>FMEL_UPD_D</th>\n",
       "      <th>geometry</th>\n",
       "    </tr>\n",
       "  </thead>\n",
       "  <tbody>\n",
       "    <tr>\n",
       "      <th>0</th>\n",
       "      <td>Tampines North Primary School</td>\n",
       "      <td>F3A9A20A</td>\n",
       "      <td>2016-03-29</td>\n",
       "      <td>POLYGON ((40842.783 38015.203, 40867.289 38008...</td>\n",
       "    </tr>\n",
       "    <tr>\n",
       "      <th>1</th>\n",
       "      <td>Chij (Katong) Primary School</td>\n",
       "      <td>54B7FF5E</td>\n",
       "      <td>2016-03-29</td>\n",
       "      <td>POLYGON ((36626.088 32204.211, 36651.952 32137...</td>\n",
       "    </tr>\n",
       "    <tr>\n",
       "      <th>2</th>\n",
       "      <td>Metta School</td>\n",
       "      <td>2B880636</td>\n",
       "      <td>2016-03-29</td>\n",
       "      <td>POLYGON ((41683.217 36527.433, 41853.609 36513...</td>\n",
       "    </tr>\n",
       "    <tr>\n",
       "      <th>3</th>\n",
       "      <td>Opera Estate Primary School</td>\n",
       "      <td>A838D0F7</td>\n",
       "      <td>2016-03-29</td>\n",
       "      <td>POLYGON ((37908.34 33502.636, 37925.13 33501.1...</td>\n",
       "    </tr>\n",
       "    <tr>\n",
       "      <th>4</th>\n",
       "      <td>Minds-Towner Gdns School</td>\n",
       "      <td>86AC26B3</td>\n",
       "      <td>2016-03-29</td>\n",
       "      <td>POLYGON ((36946.941 34367.412, 36947.542 34337...</td>\n",
       "    </tr>\n",
       "  </tbody>\n",
       "</table>\n",
       "</div>"
      ],
      "text/plain": [
       "                        SITENAME   INC_CRC FMEL_UPD_D  \\\n",
       "0  Tampines North Primary School  F3A9A20A 2016-03-29   \n",
       "1   Chij (Katong) Primary School  54B7FF5E 2016-03-29   \n",
       "2                   Metta School  2B880636 2016-03-29   \n",
       "3    Opera Estate Primary School  A838D0F7 2016-03-29   \n",
       "4       Minds-Towner Gdns School  86AC26B3 2016-03-29   \n",
       "\n",
       "                                            geometry  \n",
       "0  POLYGON ((40842.783 38015.203, 40867.289 38008...  \n",
       "1  POLYGON ((36626.088 32204.211, 36651.952 32137...  \n",
       "2  POLYGON ((41683.217 36527.433, 41853.609 36513...  \n",
       "3  POLYGON ((37908.34 33502.636, 37925.13 33501.1...  \n",
       "4  POLYGON ((36946.941 34367.412, 36947.542 34337...  "
      ]
     },
     "execution_count": 65,
     "metadata": {},
     "output_type": "execute_result"
    }
   ],
   "source": [
    "schoolzone.head()"
   ]
  },
  {
   "cell_type": "code",
   "execution_count": 66,
   "id": "4ecbba03",
   "metadata": {},
   "outputs": [],
   "source": [
    "schoolzone.rename(columns={\"SITENAME\":\"School\"}, inplace=True)\n",
    "schoolzone.drop(columns=[\"INC_CRC\", \"FMEL_UPD_D\"], inplace=True)"
   ]
  },
  {
   "cell_type": "code",
   "execution_count": 67,
   "id": "849849f1",
   "metadata": {},
   "outputs": [
    {
     "data": {
      "text/html": [
       "<div>\n",
       "<style scoped>\n",
       "    .dataframe tbody tr th:only-of-type {\n",
       "        vertical-align: middle;\n",
       "    }\n",
       "\n",
       "    .dataframe tbody tr th {\n",
       "        vertical-align: top;\n",
       "    }\n",
       "\n",
       "    .dataframe thead th {\n",
       "        text-align: right;\n",
       "    }\n",
       "</style>\n",
       "<table border=\"1\" class=\"dataframe\">\n",
       "  <thead>\n",
       "    <tr style=\"text-align: right;\">\n",
       "      <th></th>\n",
       "      <th>School</th>\n",
       "      <th>geometry</th>\n",
       "    </tr>\n",
       "  </thead>\n",
       "  <tbody>\n",
       "    <tr>\n",
       "      <th>0</th>\n",
       "      <td>Tampines North Primary School</td>\n",
       "      <td>POLYGON ((40842.783 38015.203, 40867.289 38008...</td>\n",
       "    </tr>\n",
       "    <tr>\n",
       "      <th>1</th>\n",
       "      <td>Chij (Katong) Primary School</td>\n",
       "      <td>POLYGON ((36626.088 32204.211, 36651.952 32137...</td>\n",
       "    </tr>\n",
       "    <tr>\n",
       "      <th>2</th>\n",
       "      <td>Metta School</td>\n",
       "      <td>POLYGON ((41683.217 36527.433, 41853.609 36513...</td>\n",
       "    </tr>\n",
       "    <tr>\n",
       "      <th>3</th>\n",
       "      <td>Opera Estate Primary School</td>\n",
       "      <td>POLYGON ((37908.34 33502.636, 37925.13 33501.1...</td>\n",
       "    </tr>\n",
       "    <tr>\n",
       "      <th>4</th>\n",
       "      <td>Minds-Towner Gdns School</td>\n",
       "      <td>POLYGON ((36946.941 34367.412, 36947.542 34337...</td>\n",
       "    </tr>\n",
       "  </tbody>\n",
       "</table>\n",
       "</div>"
      ],
      "text/plain": [
       "                          School  \\\n",
       "0  Tampines North Primary School   \n",
       "1   Chij (Katong) Primary School   \n",
       "2                   Metta School   \n",
       "3    Opera Estate Primary School   \n",
       "4       Minds-Towner Gdns School   \n",
       "\n",
       "                                            geometry  \n",
       "0  POLYGON ((40842.783 38015.203, 40867.289 38008...  \n",
       "1  POLYGON ((36626.088 32204.211, 36651.952 32137...  \n",
       "2  POLYGON ((41683.217 36527.433, 41853.609 36513...  \n",
       "3  POLYGON ((37908.34 33502.636, 37925.13 33501.1...  \n",
       "4  POLYGON ((36946.941 34367.412, 36947.542 34337...  "
      ]
     },
     "execution_count": 67,
     "metadata": {},
     "output_type": "execute_result"
    }
   ],
   "source": [
    "schoolzone.head()"
   ]
  },
  {
   "cell_type": "code",
   "execution_count": 68,
   "id": "7b749660",
   "metadata": {},
   "outputs": [
    {
     "name": "stdout",
     "output_type": "stream",
     "text": [
      "PROJCS[\"SVY21\",GEOGCS[\"WGS 84\",DATUM[\"WGS_1984\",SPHEROID[\"WGS 84\",6378137,298.257223563,AUTHORITY[\"EPSG\",\"7030\"]],AUTHORITY[\"EPSG\",\"6326\"]],PRIMEM[\"Greenwich\",0],UNIT[\"Degree\",0.0174532925199433]],PROJECTION[\"Transverse_Mercator\"],PARAMETER[\"latitude_of_origin\",1.36666666666667],PARAMETER[\"central_meridian\",103.833333333333],PARAMETER[\"scale_factor\",1],PARAMETER[\"false_easting\",28001.642],PARAMETER[\"false_northing\",38744.572],UNIT[\"metre\",1,AUTHORITY[\"EPSG\",\"9001\"]],AXIS[\"Easting\",EAST],AXIS[\"Northing\",NORTH]]\n"
     ]
    }
   ],
   "source": [
    "print(schoolzone.crs)"
   ]
  },
  {
   "cell_type": "code",
   "execution_count": 69,
   "id": "573f2a25",
   "metadata": {},
   "outputs": [],
   "source": [
    "schoolzone[\"buffer_100m\"] = schoolzone.geometry.buffer(100)\n",
    "\n",
    "schoolzone = schoolzone.set_geometry(\"buffer_100m\")"
   ]
  },
  {
   "cell_type": "code",
   "execution_count": 70,
   "id": "ec131a8c",
   "metadata": {},
   "outputs": [
    {
     "data": {
      "text/html": [
       "<div>\n",
       "<style scoped>\n",
       "    .dataframe tbody tr th:only-of-type {\n",
       "        vertical-align: middle;\n",
       "    }\n",
       "\n",
       "    .dataframe tbody tr th {\n",
       "        vertical-align: top;\n",
       "    }\n",
       "\n",
       "    .dataframe thead th {\n",
       "        text-align: right;\n",
       "    }\n",
       "</style>\n",
       "<table border=\"1\" class=\"dataframe\">\n",
       "  <thead>\n",
       "    <tr style=\"text-align: right;\">\n",
       "      <th></th>\n",
       "      <th>School</th>\n",
       "      <th>geometry</th>\n",
       "      <th>buffer_100m</th>\n",
       "    </tr>\n",
       "  </thead>\n",
       "  <tbody>\n",
       "    <tr>\n",
       "      <th>0</th>\n",
       "      <td>Tampines North Primary School</td>\n",
       "      <td>POLYGON ((40842.783 38015.203, 40867.289 38008...</td>\n",
       "      <td>POLYGON ((40748.934 38049.733, 40752.796 38058...</td>\n",
       "    </tr>\n",
       "    <tr>\n",
       "      <th>1</th>\n",
       "      <td>Chij (Katong) Primary School</td>\n",
       "      <td>POLYGON ((36626.088 32204.211, 36651.952 32137...</td>\n",
       "      <td>POLYGON ((36600.091 32300.772, 36609.614 32302...</td>\n",
       "    </tr>\n",
       "    <tr>\n",
       "      <th>2</th>\n",
       "      <td>Metta School</td>\n",
       "      <td>POLYGON ((41683.217 36527.433, 41853.609 36513...</td>\n",
       "      <td>POLYGON ((41583.244 36529.731, 41583.923 36539...</td>\n",
       "    </tr>\n",
       "    <tr>\n",
       "      <th>3</th>\n",
       "      <td>Opera Estate Primary School</td>\n",
       "      <td>POLYGON ((37908.34 33502.636, 37925.13 33501.1...</td>\n",
       "      <td>POLYGON ((37808.381 33505.492, 37809.116 33515...</td>\n",
       "    </tr>\n",
       "    <tr>\n",
       "      <th>4</th>\n",
       "      <td>Minds-Towner Gdns School</td>\n",
       "      <td>POLYGON ((36946.941 34367.412, 36947.542 34337...</td>\n",
       "      <td>POLYGON ((36835.779 34261.077, 36835.376 34272...</td>\n",
       "    </tr>\n",
       "    <tr>\n",
       "      <th>5</th>\n",
       "      <td>St Andrew's Autism School</td>\n",
       "      <td>POLYGON ((38805.945 32710.946, 38807.808 32696...</td>\n",
       "      <td>POLYGON ((38797.843 32810.618, 38807.365 32810...</td>\n",
       "    </tr>\n",
       "    <tr>\n",
       "      <th>6</th>\n",
       "      <td>Punggol Primary School</td>\n",
       "      <td>POLYGON ((34671.719 39886.24, 34738.394 39885....</td>\n",
       "      <td>POLYGON ((34571.778 39882.794, 34571.937 39892...</td>\n",
       "    </tr>\n",
       "    <tr>\n",
       "      <th>7</th>\n",
       "      <td>Ang Mo Kio Primary School</td>\n",
       "      <td>POLYGON ((28834.602 39093.503, 28822.96 39051....</td>\n",
       "      <td>POLYGON ((28845.35 39192.924, 28854.867 39191....</td>\n",
       "    </tr>\n",
       "    <tr>\n",
       "      <th>8</th>\n",
       "      <td>Pathlight School (Campus 1)</td>\n",
       "      <td>POLYGON ((30282.561 37868.739, 30291.463 37872...</td>\n",
       "      <td>POLYGON ((30197.233 37816.594, 30192.472 37825...</td>\n",
       "    </tr>\n",
       "    <tr>\n",
       "      <th>9</th>\n",
       "      <td>Pathlight School (Campus 2)</td>\n",
       "      <td>POLYGON ((30792.161 38735.705, 30810.364 38717...</td>\n",
       "      <td>POLYGON ((30723.499 38808.406, 30730.814 38814...</td>\n",
       "    </tr>\n",
       "    <tr>\n",
       "      <th>10</th>\n",
       "      <td>Jing Shan Primary School</td>\n",
       "      <td>POLYGON ((30178.184 39413.302, 30175.009 39390...</td>\n",
       "      <td>POLYGON ((30196.833 39511.547, 30206.089 39509...</td>\n",
       "    </tr>\n",
       "    <tr>\n",
       "      <th>11</th>\n",
       "      <td>Xinghua Primary School</td>\n",
       "      <td>POLYGON ((34258.344 37815.34, 34275.013 37770....</td>\n",
       "      <td>POLYGON ((34218.952 37907.254, 34227.892 37910...</td>\n",
       "    </tr>\n",
       "    <tr>\n",
       "      <th>12</th>\n",
       "      <td>St. Joseph's Institution Junior</td>\n",
       "      <td>POLYGON ((29258.593 33271.261, 29332.676 33290...</td>\n",
       "      <td>POLYGON ((29164.818 33236.53, 29161.853 33245....</td>\n",
       "    </tr>\n",
       "    <tr>\n",
       "      <th>13</th>\n",
       "      <td>St Andrews' Junior School</td>\n",
       "      <td>POLYGON ((31546.249 35014.201, 31560.801 35013...</td>\n",
       "      <td>POLYGON ((31446.25 35013.783, 31446.679 35023....</td>\n",
       "    </tr>\n",
       "  </tbody>\n",
       "</table>\n",
       "</div>"
      ],
      "text/plain": [
       "                             School  \\\n",
       "0     Tampines North Primary School   \n",
       "1      Chij (Katong) Primary School   \n",
       "2                      Metta School   \n",
       "3       Opera Estate Primary School   \n",
       "4          Minds-Towner Gdns School   \n",
       "5         St Andrew's Autism School   \n",
       "6            Punggol Primary School   \n",
       "7         Ang Mo Kio Primary School   \n",
       "8       Pathlight School (Campus 1)   \n",
       "9       Pathlight School (Campus 2)   \n",
       "10         Jing Shan Primary School   \n",
       "11           Xinghua Primary School   \n",
       "12  St. Joseph's Institution Junior   \n",
       "13        St Andrews' Junior School   \n",
       "\n",
       "                                             geometry  \\\n",
       "0   POLYGON ((40842.783 38015.203, 40867.289 38008...   \n",
       "1   POLYGON ((36626.088 32204.211, 36651.952 32137...   \n",
       "2   POLYGON ((41683.217 36527.433, 41853.609 36513...   \n",
       "3   POLYGON ((37908.34 33502.636, 37925.13 33501.1...   \n",
       "4   POLYGON ((36946.941 34367.412, 36947.542 34337...   \n",
       "5   POLYGON ((38805.945 32710.946, 38807.808 32696...   \n",
       "6   POLYGON ((34671.719 39886.24, 34738.394 39885....   \n",
       "7   POLYGON ((28834.602 39093.503, 28822.96 39051....   \n",
       "8   POLYGON ((30282.561 37868.739, 30291.463 37872...   \n",
       "9   POLYGON ((30792.161 38735.705, 30810.364 38717...   \n",
       "10  POLYGON ((30178.184 39413.302, 30175.009 39390...   \n",
       "11  POLYGON ((34258.344 37815.34, 34275.013 37770....   \n",
       "12  POLYGON ((29258.593 33271.261, 29332.676 33290...   \n",
       "13  POLYGON ((31546.249 35014.201, 31560.801 35013...   \n",
       "\n",
       "                                          buffer_100m  \n",
       "0   POLYGON ((40748.934 38049.733, 40752.796 38058...  \n",
       "1   POLYGON ((36600.091 32300.772, 36609.614 32302...  \n",
       "2   POLYGON ((41583.244 36529.731, 41583.923 36539...  \n",
       "3   POLYGON ((37808.381 33505.492, 37809.116 33515...  \n",
       "4   POLYGON ((36835.779 34261.077, 36835.376 34272...  \n",
       "5   POLYGON ((38797.843 32810.618, 38807.365 32810...  \n",
       "6   POLYGON ((34571.778 39882.794, 34571.937 39892...  \n",
       "7   POLYGON ((28845.35 39192.924, 28854.867 39191....  \n",
       "8   POLYGON ((30197.233 37816.594, 30192.472 37825...  \n",
       "9   POLYGON ((30723.499 38808.406, 30730.814 38814...  \n",
       "10  POLYGON ((30196.833 39511.547, 30206.089 39509...  \n",
       "11  POLYGON ((34218.952 37907.254, 34227.892 37910...  \n",
       "12  POLYGON ((29164.818 33236.53, 29161.853 33245....  \n",
       "13  POLYGON ((31446.25 35013.783, 31446.679 35023....  "
      ]
     },
     "execution_count": 70,
     "metadata": {},
     "output_type": "execute_result"
    }
   ],
   "source": [
    "schoolzone.head(14)"
   ]
  },
  {
   "cell_type": "code",
   "execution_count": 71,
   "id": "6e995155",
   "metadata": {},
   "outputs": [
    {
     "data": {
      "text/plain": [
       "School\n",
       "ACS (Primary) School             2\n",
       "Ai Tong School                   2\n",
       "Balestier Hill Primary School    2\n",
       "Haig Girls' School               2\n",
       "Singapore American School        2\n",
       "Ahmad Ibrahim Primary School     1\n",
       "Alexandra Primary School         1\n",
       "Anchor Green Primary School      1\n",
       "Ang Mo Kio Primary School        1\n",
       "Anderson Primary School          1\n",
       "dtype: int64"
      ]
     },
     "execution_count": 71,
     "metadata": {},
     "output_type": "execute_result"
    }
   ],
   "source": [
    "schoolzone.groupby(\"School\").size().sort_values(ascending=False).head(10)"
   ]
  },
  {
   "cell_type": "code",
   "execution_count": 72,
   "id": "59798512",
   "metadata": {},
   "outputs": [
    {
     "data": {
      "text/html": [
       "<div>\n",
       "<style scoped>\n",
       "    .dataframe tbody tr th:only-of-type {\n",
       "        vertical-align: middle;\n",
       "    }\n",
       "\n",
       "    .dataframe tbody tr th {\n",
       "        vertical-align: top;\n",
       "    }\n",
       "\n",
       "    .dataframe thead th {\n",
       "        text-align: right;\n",
       "    }\n",
       "</style>\n",
       "<table border=\"1\" class=\"dataframe\">\n",
       "  <thead>\n",
       "    <tr style=\"text-align: right;\">\n",
       "      <th></th>\n",
       "      <th>OBJECTID</th>\n",
       "      <th>geometry</th>\n",
       "    </tr>\n",
       "  </thead>\n",
       "  <tbody>\n",
       "    <tr>\n",
       "      <th>0</th>\n",
       "      <td>133</td>\n",
       "      <td>LINESTRING (34190.201 33964.826, 34193.318 339...</td>\n",
       "    </tr>\n",
       "    <tr>\n",
       "      <th>1</th>\n",
       "      <td>134</td>\n",
       "      <td>LINESTRING (41580.37 37860.818, 41580.372 3784...</td>\n",
       "    </tr>\n",
       "    <tr>\n",
       "      <th>2</th>\n",
       "      <td>135</td>\n",
       "      <td>LINESTRING (34191.702 33977.343, 34186.946 339...</td>\n",
       "    </tr>\n",
       "    <tr>\n",
       "      <th>3</th>\n",
       "      <td>136</td>\n",
       "      <td>LINESTRING (34186.309 34051.694, 34173.199 340...</td>\n",
       "    </tr>\n",
       "    <tr>\n",
       "      <th>4</th>\n",
       "      <td>137</td>\n",
       "      <td>LINESTRING (41583.916 37841.023, 41600.305 378...</td>\n",
       "    </tr>\n",
       "  </tbody>\n",
       "</table>\n",
       "</div>"
      ],
      "text/plain": [
       "   OBJECTID                                           geometry\n",
       "0       133  LINESTRING (34190.201 33964.826, 34193.318 339...\n",
       "1       134  LINESTRING (41580.37 37860.818, 41580.372 3784...\n",
       "2       135  LINESTRING (34191.702 33977.343, 34186.946 339...\n",
       "3       136  LINESTRING (34186.309 34051.694, 34173.199 340...\n",
       "4       137  LINESTRING (41583.916 37841.023, 41600.305 378..."
      ]
     },
     "execution_count": 72,
     "metadata": {},
     "output_type": "execute_result"
    }
   ],
   "source": [
    "roadcrossing = gpd.read_file(\"./datasets/ROADCROSSING.shp\")\n",
    "\n",
    "\n",
    "roadcrossing.head()"
   ]
  },
  {
   "cell_type": "code",
   "execution_count": 73,
   "id": "33ad0088",
   "metadata": {},
   "outputs": [
    {
     "data": {
      "text/html": [
       "<div>\n",
       "<style scoped>\n",
       "    .dataframe tbody tr th:only-of-type {\n",
       "        vertical-align: middle;\n",
       "    }\n",
       "\n",
       "    .dataframe tbody tr th {\n",
       "        vertical-align: top;\n",
       "    }\n",
       "\n",
       "    .dataframe thead th {\n",
       "        text-align: right;\n",
       "    }\n",
       "</style>\n",
       "<table border=\"1\" class=\"dataframe\">\n",
       "  <thead>\n",
       "    <tr style=\"text-align: right;\">\n",
       "      <th></th>\n",
       "      <th>OBJECTID</th>\n",
       "    </tr>\n",
       "  </thead>\n",
       "  <tbody>\n",
       "    <tr>\n",
       "      <th>count</th>\n",
       "      <td>9641.000000</td>\n",
       "    </tr>\n",
       "    <tr>\n",
       "      <th>mean</th>\n",
       "      <td>4959.742558</td>\n",
       "    </tr>\n",
       "    <tr>\n",
       "      <th>std</th>\n",
       "      <td>3141.920071</td>\n",
       "    </tr>\n",
       "    <tr>\n",
       "      <th>min</th>\n",
       "      <td>1.000000</td>\n",
       "    </tr>\n",
       "    <tr>\n",
       "      <th>25%</th>\n",
       "      <td>2426.000000</td>\n",
       "    </tr>\n",
       "    <tr>\n",
       "      <th>50%</th>\n",
       "      <td>4844.000000</td>\n",
       "    </tr>\n",
       "    <tr>\n",
       "      <th>75%</th>\n",
       "      <td>7264.000000</td>\n",
       "    </tr>\n",
       "    <tr>\n",
       "      <th>max</th>\n",
       "      <td>22404.000000</td>\n",
       "    </tr>\n",
       "  </tbody>\n",
       "</table>\n",
       "</div>"
      ],
      "text/plain": [
       "           OBJECTID\n",
       "count   9641.000000\n",
       "mean    4959.742558\n",
       "std     3141.920071\n",
       "min        1.000000\n",
       "25%     2426.000000\n",
       "50%     4844.000000\n",
       "75%     7264.000000\n",
       "max    22404.000000"
      ]
     },
     "execution_count": 73,
     "metadata": {},
     "output_type": "execute_result"
    }
   ],
   "source": [
    "\n",
    "roadcrossing.describe()"
   ]
  },
  {
   "cell_type": "code",
   "execution_count": 74,
   "id": "91738d1e",
   "metadata": {},
   "outputs": [
    {
     "data": {
      "text/html": [
       "<div>\n",
       "<style scoped>\n",
       "    .dataframe tbody tr th:only-of-type {\n",
       "        vertical-align: middle;\n",
       "    }\n",
       "\n",
       "    .dataframe tbody tr th {\n",
       "        vertical-align: top;\n",
       "    }\n",
       "\n",
       "    .dataframe thead th {\n",
       "        text-align: right;\n",
       "    }\n",
       "</style>\n",
       "<table border=\"1\" class=\"dataframe\">\n",
       "  <thead>\n",
       "    <tr style=\"text-align: right;\">\n",
       "      <th></th>\n",
       "      <th>OBJECTID</th>\n",
       "      <th>geometry</th>\n",
       "    </tr>\n",
       "  </thead>\n",
       "  <tbody>\n",
       "    <tr>\n",
       "      <th>0</th>\n",
       "      <td>133</td>\n",
       "      <td>LINESTRING (34190.201 33964.826, 34193.318 339...</td>\n",
       "    </tr>\n",
       "    <tr>\n",
       "      <th>1</th>\n",
       "      <td>134</td>\n",
       "      <td>LINESTRING (41580.37 37860.818, 41580.372 3784...</td>\n",
       "    </tr>\n",
       "    <tr>\n",
       "      <th>2</th>\n",
       "      <td>135</td>\n",
       "      <td>LINESTRING (34191.702 33977.343, 34186.946 339...</td>\n",
       "    </tr>\n",
       "    <tr>\n",
       "      <th>3</th>\n",
       "      <td>136</td>\n",
       "      <td>LINESTRING (34186.309 34051.694, 34173.199 340...</td>\n",
       "    </tr>\n",
       "    <tr>\n",
       "      <th>4</th>\n",
       "      <td>137</td>\n",
       "      <td>LINESTRING (41583.916 37841.023, 41600.305 378...</td>\n",
       "    </tr>\n",
       "  </tbody>\n",
       "</table>\n",
       "</div>"
      ],
      "text/plain": [
       "   OBJECTID                                           geometry\n",
       "0       133  LINESTRING (34190.201 33964.826, 34193.318 339...\n",
       "1       134  LINESTRING (41580.37 37860.818, 41580.372 3784...\n",
       "2       135  LINESTRING (34191.702 33977.343, 34186.946 339...\n",
       "3       136  LINESTRING (34186.309 34051.694, 34173.199 340...\n",
       "4       137  LINESTRING (41583.916 37841.023, 41600.305 378..."
      ]
     },
     "execution_count": 74,
     "metadata": {},
     "output_type": "execute_result"
    }
   ],
   "source": [
    "roadcrossing.head()"
   ]
  },
  {
   "cell_type": "code",
   "execution_count": 75,
   "id": "7b0467c2",
   "metadata": {},
   "outputs": [],
   "source": [
    "roadcrossing_near_school = gpd.sjoin(schoolzone, roadcrossing, how=\"left\", predicate=\"intersects\")"
   ]
  },
  {
   "cell_type": "code",
   "execution_count": 76,
   "id": "92621b03",
   "metadata": {},
   "outputs": [
    {
     "data": {
      "text/html": [
       "<div>\n",
       "<style scoped>\n",
       "    .dataframe tbody tr th:only-of-type {\n",
       "        vertical-align: middle;\n",
       "    }\n",
       "\n",
       "    .dataframe tbody tr th {\n",
       "        vertical-align: top;\n",
       "    }\n",
       "\n",
       "    .dataframe thead th {\n",
       "        text-align: right;\n",
       "    }\n",
       "</style>\n",
       "<table border=\"1\" class=\"dataframe\">\n",
       "  <thead>\n",
       "    <tr style=\"text-align: right;\">\n",
       "      <th></th>\n",
       "      <th>School</th>\n",
       "      <th>geometry</th>\n",
       "      <th>buffer_100m</th>\n",
       "      <th>index_right</th>\n",
       "      <th>OBJECTID</th>\n",
       "    </tr>\n",
       "  </thead>\n",
       "  <tbody>\n",
       "    <tr>\n",
       "      <th>0</th>\n",
       "      <td>Tampines North Primary School</td>\n",
       "      <td>POLYGON ((40842.783 38015.203, 40867.289 38008...</td>\n",
       "      <td>POLYGON ((40748.934 38049.733, 40752.796 38058...</td>\n",
       "      <td>1049.0</td>\n",
       "      <td>1040.0</td>\n",
       "    </tr>\n",
       "    <tr>\n",
       "      <th>0</th>\n",
       "      <td>Tampines North Primary School</td>\n",
       "      <td>POLYGON ((40842.783 38015.203, 40867.289 38008...</td>\n",
       "      <td>POLYGON ((40748.934 38049.733, 40752.796 38058...</td>\n",
       "      <td>1059.0</td>\n",
       "      <td>1050.0</td>\n",
       "    </tr>\n",
       "    <tr>\n",
       "      <th>0</th>\n",
       "      <td>Tampines North Primary School</td>\n",
       "      <td>POLYGON ((40842.783 38015.203, 40867.289 38008...</td>\n",
       "      <td>POLYGON ((40748.934 38049.733, 40752.796 38058...</td>\n",
       "      <td>1055.0</td>\n",
       "      <td>1046.0</td>\n",
       "    </tr>\n",
       "    <tr>\n",
       "      <th>1</th>\n",
       "      <td>Chij (Katong) Primary School</td>\n",
       "      <td>POLYGON ((36626.088 32204.211, 36651.952 32137...</td>\n",
       "      <td>POLYGON ((36600.091 32300.772, 36609.614 32302...</td>\n",
       "      <td>NaN</td>\n",
       "      <td>NaN</td>\n",
       "    </tr>\n",
       "    <tr>\n",
       "      <th>2</th>\n",
       "      <td>Metta School</td>\n",
       "      <td>POLYGON ((41683.217 36527.433, 41853.609 36513...</td>\n",
       "      <td>POLYGON ((41583.244 36529.731, 41583.923 36539...</td>\n",
       "      <td>2254.0</td>\n",
       "      <td>2305.0</td>\n",
       "    </tr>\n",
       "  </tbody>\n",
       "</table>\n",
       "</div>"
      ],
      "text/plain": [
       "                          School  \\\n",
       "0  Tampines North Primary School   \n",
       "0  Tampines North Primary School   \n",
       "0  Tampines North Primary School   \n",
       "1   Chij (Katong) Primary School   \n",
       "2                   Metta School   \n",
       "\n",
       "                                            geometry  \\\n",
       "0  POLYGON ((40842.783 38015.203, 40867.289 38008...   \n",
       "0  POLYGON ((40842.783 38015.203, 40867.289 38008...   \n",
       "0  POLYGON ((40842.783 38015.203, 40867.289 38008...   \n",
       "1  POLYGON ((36626.088 32204.211, 36651.952 32137...   \n",
       "2  POLYGON ((41683.217 36527.433, 41853.609 36513...   \n",
       "\n",
       "                                         buffer_100m  index_right  OBJECTID  \n",
       "0  POLYGON ((40748.934 38049.733, 40752.796 38058...       1049.0    1040.0  \n",
       "0  POLYGON ((40748.934 38049.733, 40752.796 38058...       1059.0    1050.0  \n",
       "0  POLYGON ((40748.934 38049.733, 40752.796 38058...       1055.0    1046.0  \n",
       "1  POLYGON ((36600.091 32300.772, 36609.614 32302...          NaN       NaN  \n",
       "2  POLYGON ((41583.244 36529.731, 41583.923 36539...       2254.0    2305.0  "
      ]
     },
     "execution_count": 76,
     "metadata": {},
     "output_type": "execute_result"
    }
   ],
   "source": [
    "roadcrossing_near_school.head()"
   ]
  },
  {
   "cell_type": "code",
   "execution_count": 77,
   "id": "942b9c6c",
   "metadata": {},
   "outputs": [
    {
     "data": {
      "text/html": [
       "<div>\n",
       "<style scoped>\n",
       "    .dataframe tbody tr th:only-of-type {\n",
       "        vertical-align: middle;\n",
       "    }\n",
       "\n",
       "    .dataframe tbody tr th {\n",
       "        vertical-align: top;\n",
       "    }\n",
       "\n",
       "    .dataframe thead th {\n",
       "        text-align: right;\n",
       "    }\n",
       "</style>\n",
       "<table border=\"1\" class=\"dataframe\">\n",
       "  <thead>\n",
       "    <tr style=\"text-align: right;\">\n",
       "      <th></th>\n",
       "      <th>OBJECTID</th>\n",
       "      <th>geometry</th>\n",
       "    </tr>\n",
       "  </thead>\n",
       "  <tbody>\n",
       "    <tr>\n",
       "      <th>0</th>\n",
       "      <td>133</td>\n",
       "      <td>LINESTRING (34190.201 33964.826, 34193.318 339...</td>\n",
       "    </tr>\n",
       "    <tr>\n",
       "      <th>1</th>\n",
       "      <td>134</td>\n",
       "      <td>LINESTRING (41580.37 37860.818, 41580.372 3784...</td>\n",
       "    </tr>\n",
       "    <tr>\n",
       "      <th>2</th>\n",
       "      <td>135</td>\n",
       "      <td>LINESTRING (34191.702 33977.343, 34186.946 339...</td>\n",
       "    </tr>\n",
       "    <tr>\n",
       "      <th>3</th>\n",
       "      <td>136</td>\n",
       "      <td>LINESTRING (34186.309 34051.694, 34173.199 340...</td>\n",
       "    </tr>\n",
       "    <tr>\n",
       "      <th>4</th>\n",
       "      <td>137</td>\n",
       "      <td>LINESTRING (41583.916 37841.023, 41600.305 378...</td>\n",
       "    </tr>\n",
       "    <tr>\n",
       "      <th>...</th>\n",
       "      <td>...</td>\n",
       "      <td>...</td>\n",
       "    </tr>\n",
       "    <tr>\n",
       "      <th>9636</th>\n",
       "      <td>9293</td>\n",
       "      <td>LINESTRING (29500.595 33896.801, 29516.187 338...</td>\n",
       "    </tr>\n",
       "    <tr>\n",
       "      <th>9637</th>\n",
       "      <td>22401</td>\n",
       "      <td>LINESTRING (29372.143 33947.039, 29384.41 3394...</td>\n",
       "    </tr>\n",
       "    <tr>\n",
       "      <th>9638</th>\n",
       "      <td>22402</td>\n",
       "      <td>LINESTRING (29390.515 33947.104, 29393.987 339...</td>\n",
       "    </tr>\n",
       "    <tr>\n",
       "      <th>9639</th>\n",
       "      <td>22403</td>\n",
       "      <td>LINESTRING (29380.224 33975.969, 29390.967 339...</td>\n",
       "    </tr>\n",
       "    <tr>\n",
       "      <th>9640</th>\n",
       "      <td>22404</td>\n",
       "      <td>LINESTRING (29395.997 33972.904, 29401.342 339...</td>\n",
       "    </tr>\n",
       "  </tbody>\n",
       "</table>\n",
       "<p>9641 rows × 2 columns</p>\n",
       "</div>"
      ],
      "text/plain": [
       "      OBJECTID                                           geometry\n",
       "0          133  LINESTRING (34190.201 33964.826, 34193.318 339...\n",
       "1          134  LINESTRING (41580.37 37860.818, 41580.372 3784...\n",
       "2          135  LINESTRING (34191.702 33977.343, 34186.946 339...\n",
       "3          136  LINESTRING (34186.309 34051.694, 34173.199 340...\n",
       "4          137  LINESTRING (41583.916 37841.023, 41600.305 378...\n",
       "...        ...                                                ...\n",
       "9636      9293  LINESTRING (29500.595 33896.801, 29516.187 338...\n",
       "9637     22401  LINESTRING (29372.143 33947.039, 29384.41 3394...\n",
       "9638     22402  LINESTRING (29390.515 33947.104, 29393.987 339...\n",
       "9639     22403  LINESTRING (29380.224 33975.969, 29390.967 339...\n",
       "9640     22404  LINESTRING (29395.997 33972.904, 29401.342 339...\n",
       "\n",
       "[9641 rows x 2 columns]"
      ]
     },
     "execution_count": 77,
     "metadata": {},
     "output_type": "execute_result"
    }
   ],
   "source": [
    "roadcrossing"
   ]
  },
  {
   "cell_type": "code",
   "execution_count": 78,
   "id": "a731edda",
   "metadata": {},
   "outputs": [
    {
     "data": {
      "text/plain": [
       "School         1235\n",
       "geometry       1235\n",
       "buffer_100m    1235\n",
       "index_right    1230\n",
       "OBJECTID       1230\n",
       "dtype: int64"
      ]
     },
     "execution_count": 78,
     "metadata": {},
     "output_type": "execute_result"
    }
   ],
   "source": [
    "roadcrossing_near_school.count()"
   ]
  },
  {
   "cell_type": "code",
   "execution_count": 79,
   "id": "e6a54fd0",
   "metadata": {},
   "outputs": [
    {
     "data": {
      "text/plain": [
       "School\n",
       "Yio Chu Kang Primary School               18\n",
       "Punggol Green Primary School              18\n",
       "Edgefield Primary School                  17\n",
       "Punggol Primary School                    17\n",
       "Anchor Green Primary School               17\n",
       "                                          ..\n",
       "St. Joseph's Institution Junior            1\n",
       "ST STEPHEN'S PRIMARY SCHOOL                1\n",
       "Seng Kang Primary School                   1\n",
       "St Andrew's Autism School                  1\n",
       "St. Anthony's Canossian Primary School     1\n",
       "Length: 206, dtype: int64"
      ]
     },
     "execution_count": 79,
     "metadata": {},
     "output_type": "execute_result"
    }
   ],
   "source": [
    "roadcrossing_near_school.groupby(\"School\").size().sort_values(ascending=False)"
   ]
  },
  {
   "cell_type": "code",
   "execution_count": 80,
   "id": "617b3c30",
   "metadata": {},
   "outputs": [],
   "source": [
    "roadcrossing_near_school[\"object_type\"] = \"Road Crossing\"\n",
    "roadcrossing_near_school.rename(columns={\"index_right\": \"object_index\"}, inplace=True)"
   ]
  },
  {
   "cell_type": "code",
   "execution_count": 81,
   "id": "1af7630c",
   "metadata": {},
   "outputs": [
    {
     "data": {
      "text/html": [
       "<div>\n",
       "<style scoped>\n",
       "    .dataframe tbody tr th:only-of-type {\n",
       "        vertical-align: middle;\n",
       "    }\n",
       "\n",
       "    .dataframe tbody tr th {\n",
       "        vertical-align: top;\n",
       "    }\n",
       "\n",
       "    .dataframe thead th {\n",
       "        text-align: right;\n",
       "    }\n",
       "</style>\n",
       "<table border=\"1\" class=\"dataframe\">\n",
       "  <thead>\n",
       "    <tr style=\"text-align: right;\">\n",
       "      <th></th>\n",
       "      <th>School</th>\n",
       "      <th>geometry</th>\n",
       "      <th>buffer_100m</th>\n",
       "      <th>object_index</th>\n",
       "      <th>OBJECTID</th>\n",
       "      <th>object_type</th>\n",
       "    </tr>\n",
       "  </thead>\n",
       "  <tbody>\n",
       "    <tr>\n",
       "      <th>0</th>\n",
       "      <td>Tampines North Primary School</td>\n",
       "      <td>POLYGON ((40842.783 38015.203, 40867.289 38008...</td>\n",
       "      <td>POLYGON ((40748.934 38049.733, 40752.796 38058...</td>\n",
       "      <td>1049.0</td>\n",
       "      <td>1040.0</td>\n",
       "      <td>Road Crossing</td>\n",
       "    </tr>\n",
       "    <tr>\n",
       "      <th>0</th>\n",
       "      <td>Tampines North Primary School</td>\n",
       "      <td>POLYGON ((40842.783 38015.203, 40867.289 38008...</td>\n",
       "      <td>POLYGON ((40748.934 38049.733, 40752.796 38058...</td>\n",
       "      <td>1059.0</td>\n",
       "      <td>1050.0</td>\n",
       "      <td>Road Crossing</td>\n",
       "    </tr>\n",
       "    <tr>\n",
       "      <th>0</th>\n",
       "      <td>Tampines North Primary School</td>\n",
       "      <td>POLYGON ((40842.783 38015.203, 40867.289 38008...</td>\n",
       "      <td>POLYGON ((40748.934 38049.733, 40752.796 38058...</td>\n",
       "      <td>1055.0</td>\n",
       "      <td>1046.0</td>\n",
       "      <td>Road Crossing</td>\n",
       "    </tr>\n",
       "    <tr>\n",
       "      <th>1</th>\n",
       "      <td>Chij (Katong) Primary School</td>\n",
       "      <td>POLYGON ((36626.088 32204.211, 36651.952 32137...</td>\n",
       "      <td>POLYGON ((36600.091 32300.772, 36609.614 32302...</td>\n",
       "      <td>NaN</td>\n",
       "      <td>NaN</td>\n",
       "      <td>Road Crossing</td>\n",
       "    </tr>\n",
       "    <tr>\n",
       "      <th>2</th>\n",
       "      <td>Metta School</td>\n",
       "      <td>POLYGON ((41683.217 36527.433, 41853.609 36513...</td>\n",
       "      <td>POLYGON ((41583.244 36529.731, 41583.923 36539...</td>\n",
       "      <td>2254.0</td>\n",
       "      <td>2305.0</td>\n",
       "      <td>Road Crossing</td>\n",
       "    </tr>\n",
       "  </tbody>\n",
       "</table>\n",
       "</div>"
      ],
      "text/plain": [
       "                          School  \\\n",
       "0  Tampines North Primary School   \n",
       "0  Tampines North Primary School   \n",
       "0  Tampines North Primary School   \n",
       "1   Chij (Katong) Primary School   \n",
       "2                   Metta School   \n",
       "\n",
       "                                            geometry  \\\n",
       "0  POLYGON ((40842.783 38015.203, 40867.289 38008...   \n",
       "0  POLYGON ((40842.783 38015.203, 40867.289 38008...   \n",
       "0  POLYGON ((40842.783 38015.203, 40867.289 38008...   \n",
       "1  POLYGON ((36626.088 32204.211, 36651.952 32137...   \n",
       "2  POLYGON ((41683.217 36527.433, 41853.609 36513...   \n",
       "\n",
       "                                         buffer_100m  object_index  OBJECTID  \\\n",
       "0  POLYGON ((40748.934 38049.733, 40752.796 38058...        1049.0    1040.0   \n",
       "0  POLYGON ((40748.934 38049.733, 40752.796 38058...        1059.0    1050.0   \n",
       "0  POLYGON ((40748.934 38049.733, 40752.796 38058...        1055.0    1046.0   \n",
       "1  POLYGON ((36600.091 32300.772, 36609.614 32302...           NaN       NaN   \n",
       "2  POLYGON ((41583.244 36529.731, 41583.923 36539...        2254.0    2305.0   \n",
       "\n",
       "     object_type  \n",
       "0  Road Crossing  \n",
       "0  Road Crossing  \n",
       "0  Road Crossing  \n",
       "1  Road Crossing  \n",
       "2  Road Crossing  "
      ]
     },
     "execution_count": 81,
     "metadata": {},
     "output_type": "execute_result"
    }
   ],
   "source": [
    "roadcrossing_near_school.head()"
   ]
  },
  {
   "cell_type": "code",
   "execution_count": 82,
   "id": "358a49c6",
   "metadata": {},
   "outputs": [
    {
     "data": {
      "image/png": "[encoded data removed]",
      "text/plain": [
       "<Figure size 800x600 with 1 Axes>"
      ]
     },
     "metadata": {},
     "output_type": "display_data"
    }
   ],
   "source": [
    "roadcrossing_near_school.groupby(\"School\")[\"OBJECTID\"].count().plot.hist(\n",
    "    bins=range(0, roadcrossing_near_school.groupby(\"School\")[\"OBJECTID\"].count().max() + 3), \n",
    "    edgecolor=\"black\",\n",
    "    figsize=(8,6)\n",
    ")\n",
    "\n",
    "plt.title(\"Distribution of Road Crossings per School\")\n",
    "plt.xlabel(\"Number of Road Crossings within 100m\")\n",
    "plt.ylabel(\"Number of Schools\")\n",
    "plt.show()"
   ]
  },
  {
   "cell_type": "code",
   "execution_count": 132,
   "id": "e271071e",
   "metadata": {},
   "outputs": [
    {
     "data": {
      "image/png": "[encoded data removed]",
      "text/plain": [
       "<Figure size 640x480 with 1 Axes>"
      ]
     },
     "metadata": {},
     "output_type": "display_data"
    }
   ],
   "source": [
    "sns.boxplot(roadcrossing_near_school.groupby(\"School\")[\"OBJECTID\"].count())\n",
    "\n",
    "plt.title(\"Distribution of Road Crossings per School\")\n",
    "plt.ylabel(\"Number of Road Crossings within 100m\")\n",
    "plt.show()"
   ]
  },
  {
   "cell_type": "code",
   "execution_count": 148,
   "id": "2170a5c4",
   "metadata": {},
   "outputs": [
    {
     "data": {
      "text/plain": [
       "count    206.000000\n",
       "mean       5.970874\n",
       "std        4.292833\n",
       "min        0.000000\n",
       "25%        3.000000\n",
       "50%        5.000000\n",
       "75%        8.000000\n",
       "max       18.000000\n",
       "Name: OBJECTID, dtype: float64"
      ]
     },
     "execution_count": 148,
     "metadata": {},
     "output_type": "execute_result"
    }
   ],
   "source": [
    "roadcrossing_near_school.groupby(\"School\")[\"OBJECTID\"].count().describe()"
   ]
  },
  {
   "cell_type": "code",
   "execution_count": 83,
   "id": "d571819e",
   "metadata": {},
   "outputs": [
    {
     "data": {
      "text/html": [
       "<div>\n",
       "<style scoped>\n",
       "    .dataframe tbody tr th:only-of-type {\n",
       "        vertical-align: middle;\n",
       "    }\n",
       "\n",
       "    .dataframe tbody tr th {\n",
       "        vertical-align: top;\n",
       "    }\n",
       "\n",
       "    .dataframe thead th {\n",
       "        text-align: right;\n",
       "    }\n",
       "</style>\n",
       "<table border=\"1\" class=\"dataframe\">\n",
       "  <thead>\n",
       "    <tr style=\"text-align: right;\">\n",
       "      <th></th>\n",
       "      <th>OBJECTID</th>\n",
       "      <th>geometry</th>\n",
       "    </tr>\n",
       "  </thead>\n",
       "  <tbody>\n",
       "    <tr>\n",
       "      <th>0</th>\n",
       "      <td>133</td>\n",
       "      <td>LINESTRING (33468.503 38251.788, 33473.711 382...</td>\n",
       "    </tr>\n",
       "    <tr>\n",
       "      <th>1</th>\n",
       "      <td>134</td>\n",
       "      <td>LINESTRING (42809.978 38244.819, 42814.594 382...</td>\n",
       "    </tr>\n",
       "    <tr>\n",
       "      <th>2</th>\n",
       "      <td>135</td>\n",
       "      <td>LINESTRING (33456.089 38245.823, 33458.654 382...</td>\n",
       "    </tr>\n",
       "    <tr>\n",
       "      <th>3</th>\n",
       "      <td>136</td>\n",
       "      <td>LINESTRING (20778.211 39830.567, 20782.529 398...</td>\n",
       "    </tr>\n",
       "    <tr>\n",
       "      <th>4</th>\n",
       "      <td>137</td>\n",
       "      <td>LINESTRING (32111.754 38233.47, 32115.463 3822...</td>\n",
       "    </tr>\n",
       "  </tbody>\n",
       "</table>\n",
       "</div>"
      ],
      "text/plain": [
       "   OBJECTID                                           geometry\n",
       "0       133  LINESTRING (33468.503 38251.788, 33473.711 382...\n",
       "1       134  LINESTRING (42809.978 38244.819, 42814.594 382...\n",
       "2       135  LINESTRING (33456.089 38245.823, 33458.654 382...\n",
       "3       136  LINESTRING (20778.211 39830.567, 20782.529 398...\n",
       "4       137  LINESTRING (32111.754 38233.47, 32115.463 3822..."
      ]
     },
     "execution_count": 83,
     "metadata": {},
     "output_type": "execute_result"
    }
   ],
   "source": [
    "roadhump=gpd.read_file(\"./datasets/ROADHUMP.shp\")\n",
    "\n",
    "roadhump.head()"
   ]
  },
  {
   "cell_type": "code",
   "execution_count": 84,
   "id": "bcaf41fc",
   "metadata": {},
   "outputs": [
    {
     "data": {
      "text/html": [
       "<div>\n",
       "<style scoped>\n",
       "    .dataframe tbody tr th:only-of-type {\n",
       "        vertical-align: middle;\n",
       "    }\n",
       "\n",
       "    .dataframe tbody tr th {\n",
       "        vertical-align: top;\n",
       "    }\n",
       "\n",
       "    .dataframe thead th {\n",
       "        text-align: right;\n",
       "    }\n",
       "</style>\n",
       "<table border=\"1\" class=\"dataframe\">\n",
       "  <thead>\n",
       "    <tr style=\"text-align: right;\">\n",
       "      <th></th>\n",
       "      <th>OBJECTID</th>\n",
       "    </tr>\n",
       "  </thead>\n",
       "  <tbody>\n",
       "    <tr>\n",
       "      <th>count</th>\n",
       "      <td>3768.000000</td>\n",
       "    </tr>\n",
       "    <tr>\n",
       "      <th>mean</th>\n",
       "      <td>1917.590499</td>\n",
       "    </tr>\n",
       "    <tr>\n",
       "      <th>std</th>\n",
       "      <td>1196.027449</td>\n",
       "    </tr>\n",
       "    <tr>\n",
       "      <th>min</th>\n",
       "      <td>1.000000</td>\n",
       "    </tr>\n",
       "    <tr>\n",
       "      <th>25%</th>\n",
       "      <td>945.750000</td>\n",
       "    </tr>\n",
       "    <tr>\n",
       "      <th>50%</th>\n",
       "      <td>1889.500000</td>\n",
       "    </tr>\n",
       "    <tr>\n",
       "      <th>75%</th>\n",
       "      <td>2834.250000</td>\n",
       "    </tr>\n",
       "    <tr>\n",
       "      <th>max</th>\n",
       "      <td>10562.000000</td>\n",
       "    </tr>\n",
       "  </tbody>\n",
       "</table>\n",
       "</div>"
      ],
      "text/plain": [
       "           OBJECTID\n",
       "count   3768.000000\n",
       "mean    1917.590499\n",
       "std     1196.027449\n",
       "min        1.000000\n",
       "25%      945.750000\n",
       "50%     1889.500000\n",
       "75%     2834.250000\n",
       "max    10562.000000"
      ]
     },
     "execution_count": 84,
     "metadata": {},
     "output_type": "execute_result"
    }
   ],
   "source": [
    "roadhump.describe()"
   ]
  },
  {
   "cell_type": "code",
   "execution_count": 85,
   "id": "7d5b26b2",
   "metadata": {},
   "outputs": [],
   "source": [
    "roadhump_near_school = gpd.sjoin(schoolzone, roadhump, how=\"left\", predicate=\"intersects\")"
   ]
  },
  {
   "cell_type": "code",
   "execution_count": 86,
   "id": "6adcd55f",
   "metadata": {},
   "outputs": [
    {
     "data": {
      "text/html": [
       "<div>\n",
       "<style scoped>\n",
       "    .dataframe tbody tr th:only-of-type {\n",
       "        vertical-align: middle;\n",
       "    }\n",
       "\n",
       "    .dataframe tbody tr th {\n",
       "        vertical-align: top;\n",
       "    }\n",
       "\n",
       "    .dataframe thead th {\n",
       "        text-align: right;\n",
       "    }\n",
       "</style>\n",
       "<table border=\"1\" class=\"dataframe\">\n",
       "  <thead>\n",
       "    <tr style=\"text-align: right;\">\n",
       "      <th></th>\n",
       "      <th>School</th>\n",
       "      <th>geometry</th>\n",
       "      <th>buffer_100m</th>\n",
       "      <th>index_right</th>\n",
       "      <th>OBJECTID</th>\n",
       "    </tr>\n",
       "  </thead>\n",
       "  <tbody>\n",
       "    <tr>\n",
       "      <th>0</th>\n",
       "      <td>Tampines North Primary School</td>\n",
       "      <td>POLYGON ((40842.783 38015.203, 40867.289 38008...</td>\n",
       "      <td>POLYGON ((40748.934 38049.733, 40752.796 38058...</td>\n",
       "      <td>3345.0</td>\n",
       "      <td>3411.0</td>\n",
       "    </tr>\n",
       "    <tr>\n",
       "      <th>0</th>\n",
       "      <td>Tampines North Primary School</td>\n",
       "      <td>POLYGON ((40842.783 38015.203, 40867.289 38008...</td>\n",
       "      <td>POLYGON ((40748.934 38049.733, 40752.796 38058...</td>\n",
       "      <td>2395.0</td>\n",
       "      <td>2654.0</td>\n",
       "    </tr>\n",
       "    <tr>\n",
       "      <th>1</th>\n",
       "      <td>Chij (Katong) Primary School</td>\n",
       "      <td>POLYGON ((36626.088 32204.211, 36651.952 32137...</td>\n",
       "      <td>POLYGON ((36600.091 32300.772, 36609.614 32302...</td>\n",
       "      <td>733.0</td>\n",
       "      <td>753.0</td>\n",
       "    </tr>\n",
       "    <tr>\n",
       "      <th>1</th>\n",
       "      <td>Chij (Katong) Primary School</td>\n",
       "      <td>POLYGON ((36626.088 32204.211, 36651.952 32137...</td>\n",
       "      <td>POLYGON ((36600.091 32300.772, 36609.614 32302...</td>\n",
       "      <td>456.0</td>\n",
       "      <td>439.0</td>\n",
       "    </tr>\n",
       "    <tr>\n",
       "      <th>1</th>\n",
       "      <td>Chij (Katong) Primary School</td>\n",
       "      <td>POLYGON ((36626.088 32204.211, 36651.952 32137...</td>\n",
       "      <td>POLYGON ((36600.091 32300.772, 36609.614 32302...</td>\n",
       "      <td>407.0</td>\n",
       "      <td>191.0</td>\n",
       "    </tr>\n",
       "  </tbody>\n",
       "</table>\n",
       "</div>"
      ],
      "text/plain": [
       "                          School  \\\n",
       "0  Tampines North Primary School   \n",
       "0  Tampines North Primary School   \n",
       "1   Chij (Katong) Primary School   \n",
       "1   Chij (Katong) Primary School   \n",
       "1   Chij (Katong) Primary School   \n",
       "\n",
       "                                            geometry  \\\n",
       "0  POLYGON ((40842.783 38015.203, 40867.289 38008...   \n",
       "0  POLYGON ((40842.783 38015.203, 40867.289 38008...   \n",
       "1  POLYGON ((36626.088 32204.211, 36651.952 32137...   \n",
       "1  POLYGON ((36626.088 32204.211, 36651.952 32137...   \n",
       "1  POLYGON ((36626.088 32204.211, 36651.952 32137...   \n",
       "\n",
       "                                         buffer_100m  index_right  OBJECTID  \n",
       "0  POLYGON ((40748.934 38049.733, 40752.796 38058...       3345.0    3411.0  \n",
       "0  POLYGON ((40748.934 38049.733, 40752.796 38058...       2395.0    2654.0  \n",
       "1  POLYGON ((36600.091 32300.772, 36609.614 32302...        733.0     753.0  \n",
       "1  POLYGON ((36600.091 32300.772, 36609.614 32302...        456.0     439.0  \n",
       "1  POLYGON ((36600.091 32300.772, 36609.614 32302...        407.0     191.0  "
      ]
     },
     "execution_count": 86,
     "metadata": {},
     "output_type": "execute_result"
    }
   ],
   "source": [
    "roadhump_near_school.head()"
   ]
  },
  {
   "cell_type": "code",
   "execution_count": 87,
   "id": "7d53c863",
   "metadata": {},
   "outputs": [
    {
     "data": {
      "text/plain": [
       "School\n",
       "Nanyang Primary Schoo          13\n",
       "Singapore American School      10\n",
       "Nanyang Primary School          9\n",
       "Pathlight School (Campus 2)     9\n",
       "Ai Tong School                  8\n",
       "                               ..\n",
       "Xinghua Primary School          1\n",
       "Yu Neng Primary School          1\n",
       "Yio Chu Kang Primary School     1\n",
       "Yew Tee Primary School          1\n",
       "Zhenghua Primary School         1\n",
       "Length: 206, dtype: int64"
      ]
     },
     "execution_count": 87,
     "metadata": {},
     "output_type": "execute_result"
    }
   ],
   "source": [
    "roadhump_near_school.groupby(\"School\").size().sort_values(ascending=False)"
   ]
  },
  {
   "cell_type": "code",
   "execution_count": 88,
   "id": "a71fe6f8",
   "metadata": {},
   "outputs": [],
   "source": [
    "roadhump_near_school[\"object_type\"] = \"Road Hump\"\n",
    "roadhump_near_school.rename(columns={\"index_right\": \"object_index\"}, inplace=True)"
   ]
  },
  {
   "cell_type": "code",
   "execution_count": 89,
   "id": "428bc9f4",
   "metadata": {},
   "outputs": [
    {
     "data": {
      "image/png": "[encoded data removed]",
      "text/plain": [
       "<Figure size 800x600 with 1 Axes>"
      ]
     },
     "metadata": {},
     "output_type": "display_data"
    }
   ],
   "source": [
    "roadhump_near_school.groupby(\"School\")[\"OBJECTID\"].count().plot.hist(\n",
    "    bins=range(0, roadhump_near_school.groupby(\"School\")[\"OBJECTID\"].count().max() + 3), \n",
    "    edgecolor=\"black\",\n",
    "    figsize=(8,6)\n",
    ")\n",
    "\n",
    "plt.title(\"Distribution of Road Humps per School\")\n",
    "plt.xlabel(\"Number of Road Humps within 100m\")\n",
    "plt.ylabel(\"Number of Schools\")\n",
    "plt.show()"
   ]
  },
  {
   "cell_type": "code",
   "execution_count": 133,
   "id": "15376538",
   "metadata": {},
   "outputs": [
    {
     "data": {
      "image/png": "[encoded data removed]",
      "text/plain": [
       "<Figure size 640x480 with 1 Axes>"
      ]
     },
     "metadata": {},
     "output_type": "display_data"
    }
   ],
   "source": [
    "sns.boxplot(roadhump_near_school.groupby(\"School\")[\"OBJECTID\"].count())\n",
    "\n",
    "plt.title(\"Distribution of Road Humps per School\")\n",
    "plt.ylabel(\"Number of Road Humps within 100m\")\n",
    "plt.show()"
   ]
  },
  {
   "cell_type": "code",
   "execution_count": 147,
   "id": "9a3c936a",
   "metadata": {},
   "outputs": [
    {
     "data": {
      "text/plain": [
       "count    206.000000\n",
       "mean       1.762136\n",
       "std        2.266775\n",
       "min        0.000000\n",
       "25%        0.000000\n",
       "50%        1.000000\n",
       "75%        3.000000\n",
       "max       13.000000\n",
       "Name: OBJECTID, dtype: float64"
      ]
     },
     "execution_count": 147,
     "metadata": {},
     "output_type": "execute_result"
    }
   ],
   "source": [
    "roadhump_near_school.groupby(\"School\")[\"OBJECTID\"].count().describe()"
   ]
  },
  {
   "cell_type": "code",
   "execution_count": 90,
   "id": "47f788aa",
   "metadata": {},
   "outputs": [],
   "source": [
    "speedstrip=gpd.read_file(\"./datasets/SpeedRegulatingStrip.shp\")"
   ]
  },
  {
   "cell_type": "code",
   "execution_count": 91,
   "id": "bf904901",
   "metadata": {},
   "outputs": [
    {
     "data": {
      "text/html": [
       "<div>\n",
       "<style scoped>\n",
       "    .dataframe tbody tr th:only-of-type {\n",
       "        vertical-align: middle;\n",
       "    }\n",
       "\n",
       "    .dataframe tbody tr th {\n",
       "        vertical-align: top;\n",
       "    }\n",
       "\n",
       "    .dataframe thead th {\n",
       "        text-align: right;\n",
       "    }\n",
       "</style>\n",
       "<table border=\"1\" class=\"dataframe\">\n",
       "  <thead>\n",
       "    <tr style=\"text-align: right;\">\n",
       "      <th></th>\n",
       "      <th>OBJECTID</th>\n",
       "      <th>geometry</th>\n",
       "    </tr>\n",
       "  </thead>\n",
       "  <tbody>\n",
       "    <tr>\n",
       "      <th>0</th>\n",
       "      <td>127</td>\n",
       "      <td>LINESTRING (14795.516 44292.26, 14791.177 4428...</td>\n",
       "    </tr>\n",
       "    <tr>\n",
       "      <th>1</th>\n",
       "      <td>128</td>\n",
       "      <td>LINESTRING (15137.592 37168.163, 15136.309 371...</td>\n",
       "    </tr>\n",
       "    <tr>\n",
       "      <th>2</th>\n",
       "      <td>129</td>\n",
       "      <td>LINESTRING (15103.585 37161.504, 15102.122 371...</td>\n",
       "    </tr>\n",
       "    <tr>\n",
       "      <th>3</th>\n",
       "      <td>130</td>\n",
       "      <td>LINESTRING (15945.15 35430.981, 15952.172 3543...</td>\n",
       "    </tr>\n",
       "    <tr>\n",
       "      <th>4</th>\n",
       "      <td>131</td>\n",
       "      <td>LINESTRING (9815.245 33567.666, 9814.69 33579....</td>\n",
       "    </tr>\n",
       "  </tbody>\n",
       "</table>\n",
       "</div>"
      ],
      "text/plain": [
       "   OBJECTID                                           geometry\n",
       "0       127  LINESTRING (14795.516 44292.26, 14791.177 4428...\n",
       "1       128  LINESTRING (15137.592 37168.163, 15136.309 371...\n",
       "2       129  LINESTRING (15103.585 37161.504, 15102.122 371...\n",
       "3       130  LINESTRING (15945.15 35430.981, 15952.172 3543...\n",
       "4       131  LINESTRING (9815.245 33567.666, 9814.69 33579...."
      ]
     },
     "execution_count": 91,
     "metadata": {},
     "output_type": "execute_result"
    }
   ],
   "source": [
    "speedstrip.head()"
   ]
  },
  {
   "cell_type": "code",
   "execution_count": 92,
   "id": "00a6b85a",
   "metadata": {},
   "outputs": [],
   "source": [
    "speedstrip_near_school = gpd.sjoin(schoolzone, speedstrip, how=\"left\", predicate=\"intersects\")"
   ]
  },
  {
   "cell_type": "code",
   "execution_count": 93,
   "id": "c0ed0fc7",
   "metadata": {},
   "outputs": [
    {
     "data": {
      "text/plain": [
       "School         251\n",
       "geometry       251\n",
       "buffer_100m    251\n",
       "index_right     80\n",
       "OBJECTID        80\n",
       "dtype: int64"
      ]
     },
     "execution_count": 93,
     "metadata": {},
     "output_type": "execute_result"
    }
   ],
   "source": [
    "speedstrip_near_school.count()"
   ]
  },
  {
   "cell_type": "code",
   "execution_count": 94,
   "id": "5fb4d608",
   "metadata": {},
   "outputs": [
    {
     "data": {
      "text/plain": [
       "School\n",
       "Ai Tong School                 10\n",
       "Metta School                    4\n",
       "Griffiths Primay School         3\n",
       "Gan Eng Seng Primary School     3\n",
       "Changkat Changi Primary Sch     3\n",
       "                               ..\n",
       "Yu Neng Primary School          1\n",
       "Yuhua Primary School            1\n",
       "Zhangde Primary School          1\n",
       "Zhenghua Primary School         1\n",
       "Zhonghua Primary School         1\n",
       "Length: 206, dtype: int64"
      ]
     },
     "execution_count": 94,
     "metadata": {},
     "output_type": "execute_result"
    }
   ],
   "source": [
    "speedstrip_near_school.groupby(\"School\").size().sort_values(ascending=False)"
   ]
  },
  {
   "cell_type": "code",
   "execution_count": 95,
   "id": "6cb3a912",
   "metadata": {},
   "outputs": [],
   "source": [
    "speedstrip_near_school[\"object_type\"] = \"Speed Regulating Strip\"\n",
    "speedstrip_near_school.rename(columns={\"index_right\": \"object_index\"}, inplace=True)"
   ]
  },
  {
   "cell_type": "code",
   "execution_count": 96,
   "id": "60ee6bf4",
   "metadata": {},
   "outputs": [
    {
     "data": {
      "text/html": [
       "<div>\n",
       "<style scoped>\n",
       "    .dataframe tbody tr th:only-of-type {\n",
       "        vertical-align: middle;\n",
       "    }\n",
       "\n",
       "    .dataframe tbody tr th {\n",
       "        vertical-align: top;\n",
       "    }\n",
       "\n",
       "    .dataframe thead th {\n",
       "        text-align: right;\n",
       "    }\n",
       "</style>\n",
       "<table border=\"1\" class=\"dataframe\">\n",
       "  <thead>\n",
       "    <tr style=\"text-align: right;\">\n",
       "      <th></th>\n",
       "      <th>School</th>\n",
       "      <th>geometry</th>\n",
       "      <th>buffer_100m</th>\n",
       "      <th>object_index</th>\n",
       "      <th>OBJECTID</th>\n",
       "      <th>object_type</th>\n",
       "    </tr>\n",
       "  </thead>\n",
       "  <tbody>\n",
       "    <tr>\n",
       "      <th>0</th>\n",
       "      <td>Tampines North Primary School</td>\n",
       "      <td>POLYGON ((40842.783 38015.203, 40867.289 38008...</td>\n",
       "      <td>POLYGON ((40748.934 38049.733, 40752.796 38058...</td>\n",
       "      <td>NaN</td>\n",
       "      <td>NaN</td>\n",
       "      <td>Speed Regulating Strip</td>\n",
       "    </tr>\n",
       "    <tr>\n",
       "      <th>1</th>\n",
       "      <td>Chij (Katong) Primary School</td>\n",
       "      <td>POLYGON ((36626.088 32204.211, 36651.952 32137...</td>\n",
       "      <td>POLYGON ((36600.091 32300.772, 36609.614 32302...</td>\n",
       "      <td>NaN</td>\n",
       "      <td>NaN</td>\n",
       "      <td>Speed Regulating Strip</td>\n",
       "    </tr>\n",
       "    <tr>\n",
       "      <th>2</th>\n",
       "      <td>Metta School</td>\n",
       "      <td>POLYGON ((41683.217 36527.433, 41853.609 36513...</td>\n",
       "      <td>POLYGON ((41583.244 36529.731, 41583.923 36539...</td>\n",
       "      <td>325.0</td>\n",
       "      <td>328.0</td>\n",
       "      <td>Speed Regulating Strip</td>\n",
       "    </tr>\n",
       "    <tr>\n",
       "      <th>2</th>\n",
       "      <td>Metta School</td>\n",
       "      <td>POLYGON ((41683.217 36527.433, 41853.609 36513...</td>\n",
       "      <td>POLYGON ((41583.244 36529.731, 41583.923 36539...</td>\n",
       "      <td>464.0</td>\n",
       "      <td>432.0</td>\n",
       "      <td>Speed Regulating Strip</td>\n",
       "    </tr>\n",
       "    <tr>\n",
       "      <th>2</th>\n",
       "      <td>Metta School</td>\n",
       "      <td>POLYGON ((41683.217 36527.433, 41853.609 36513...</td>\n",
       "      <td>POLYGON ((41583.244 36529.731, 41583.923 36539...</td>\n",
       "      <td>181.0</td>\n",
       "      <td>216.0</td>\n",
       "      <td>Speed Regulating Strip</td>\n",
       "    </tr>\n",
       "  </tbody>\n",
       "</table>\n",
       "</div>"
      ],
      "text/plain": [
       "                          School  \\\n",
       "0  Tampines North Primary School   \n",
       "1   Chij (Katong) Primary School   \n",
       "2                   Metta School   \n",
       "2                   Metta School   \n",
       "2                   Metta School   \n",
       "\n",
       "                                            geometry  \\\n",
       "0  POLYGON ((40842.783 38015.203, 40867.289 38008...   \n",
       "1  POLYGON ((36626.088 32204.211, 36651.952 32137...   \n",
       "2  POLYGON ((41683.217 36527.433, 41853.609 36513...   \n",
       "2  POLYGON ((41683.217 36527.433, 41853.609 36513...   \n",
       "2  POLYGON ((41683.217 36527.433, 41853.609 36513...   \n",
       "\n",
       "                                         buffer_100m  object_index  OBJECTID  \\\n",
       "0  POLYGON ((40748.934 38049.733, 40752.796 38058...           NaN       NaN   \n",
       "1  POLYGON ((36600.091 32300.772, 36609.614 32302...           NaN       NaN   \n",
       "2  POLYGON ((41583.244 36529.731, 41583.923 36539...         325.0     328.0   \n",
       "2  POLYGON ((41583.244 36529.731, 41583.923 36539...         464.0     432.0   \n",
       "2  POLYGON ((41583.244 36529.731, 41583.923 36539...         181.0     216.0   \n",
       "\n",
       "              object_type  \n",
       "0  Speed Regulating Strip  \n",
       "1  Speed Regulating Strip  \n",
       "2  Speed Regulating Strip  \n",
       "2  Speed Regulating Strip  \n",
       "2  Speed Regulating Strip  "
      ]
     },
     "execution_count": 96,
     "metadata": {},
     "output_type": "execute_result"
    }
   ],
   "source": [
    "speedstrip_near_school.head()"
   ]
  },
  {
   "cell_type": "code",
   "execution_count": 97,
   "id": "19314252",
   "metadata": {},
   "outputs": [
    {
     "data": {
      "image/png": "[encoded data removed]",
      "text/plain": [
       "<Figure size 800x600 with 1 Axes>"
      ]
     },
     "metadata": {},
     "output_type": "display_data"
    }
   ],
   "source": [
    "speedstrip_near_school.groupby(\"School\")[\"OBJECTID\"].count().plot.hist(\n",
    "    bins=range(0, speedstrip_near_school.groupby(\"School\")[\"OBJECTID\"].count().max() + 3), \n",
    "    edgecolor=\"black\",\n",
    "    figsize=(8,6)\n",
    ")\n",
    "\n",
    "plt.title(\"Distribution of Speed Regulating Strips per School\")\n",
    "plt.xlabel(\"Number of Speed Regulating Strips within 100m\")\n",
    "plt.ylabel(\"Number of Schools\")\n",
    "plt.show()"
   ]
  },
  {
   "cell_type": "code",
   "execution_count": 134,
   "id": "3b343e8e",
   "metadata": {},
   "outputs": [
    {
     "data": {
      "image/png": "[encoded data removed]",
      "text/plain": [
       "<Figure size 640x480 with 1 Axes>"
      ]
     },
     "metadata": {},
     "output_type": "display_data"
    }
   ],
   "source": [
    "sns.boxplot(speedstrip_near_school.groupby(\"School\")[\"OBJECTID\"].count())\n",
    "\n",
    "plt.title(\"Distribution of Speed Regulating Strips per School\")\n",
    "plt.ylabel(\"Number of Speed Regulating Strips within 100m\")\n",
    "plt.show()"
   ]
  },
  {
   "cell_type": "code",
   "execution_count": 146,
   "id": "f8fd280e",
   "metadata": {},
   "outputs": [
    {
     "data": {
      "text/plain": [
       "count    206.00000\n",
       "mean       0.38835\n",
       "std        1.05676\n",
       "min        0.00000\n",
       "25%        0.00000\n",
       "50%        0.00000\n",
       "75%        0.00000\n",
       "max       10.00000\n",
       "Name: OBJECTID, dtype: float64"
      ]
     },
     "execution_count": 146,
     "metadata": {},
     "output_type": "execute_result"
    }
   ],
   "source": [
    "speedstrip_near_school.groupby(\"School\")[\"OBJECTID\"].count().describe()"
   ]
  },
  {
   "cell_type": "code",
   "execution_count": 98,
   "id": "fd6bb209",
   "metadata": {},
   "outputs": [],
   "source": [
    "trafficsign = gpd.read_file(\"./datasets/TrafficSign.shp\")"
   ]
  },
  {
   "cell_type": "code",
   "execution_count": 99,
   "id": "cfc8ced1",
   "metadata": {},
   "outputs": [
    {
     "data": {
      "text/html": [
       "<div>\n",
       "<style scoped>\n",
       "    .dataframe tbody tr th:only-of-type {\n",
       "        vertical-align: middle;\n",
       "    }\n",
       "\n",
       "    .dataframe tbody tr th {\n",
       "        vertical-align: top;\n",
       "    }\n",
       "\n",
       "    .dataframe thead th {\n",
       "        text-align: right;\n",
       "    }\n",
       "</style>\n",
       "<table border=\"1\" class=\"dataframe\">\n",
       "  <thead>\n",
       "    <tr style=\"text-align: right;\">\n",
       "      <th></th>\n",
       "      <th>TYP_CD</th>\n",
       "      <th>BEARG_NUM</th>\n",
       "      <th>MOUNT_MTD_</th>\n",
       "      <th>LVL_NUM</th>\n",
       "      <th>TYP_CD_DES</th>\n",
       "      <th>BEARG_NUM_</th>\n",
       "      <th>MOUNT_MTD1</th>\n",
       "      <th>LVL_NUM_DE</th>\n",
       "      <th>geometry</th>\n",
       "    </tr>\n",
       "  </thead>\n",
       "  <tbody>\n",
       "    <tr>\n",
       "      <th>0</th>\n",
       "      <td>None</td>\n",
       "      <td>70.284797</td>\n",
       "      <td>None</td>\n",
       "      <td>0</td>\n",
       "      <td>No Through Road [3002]</td>\n",
       "      <td>None</td>\n",
       "      <td>1-Pole</td>\n",
       "      <td>At-grade</td>\n",
       "      <td>POINT (41318.763 35464.227)</td>\n",
       "    </tr>\n",
       "    <tr>\n",
       "      <th>1</th>\n",
       "      <td>None</td>\n",
       "      <td>229.406497</td>\n",
       "      <td>None</td>\n",
       "      <td>0</td>\n",
       "      <td>No Entry [1003]</td>\n",
       "      <td>None</td>\n",
       "      <td>1-Pole</td>\n",
       "      <td>At-grade</td>\n",
       "      <td>POINT (41009 35897.478)</td>\n",
       "    </tr>\n",
       "    <tr>\n",
       "      <th>2</th>\n",
       "      <td>None</td>\n",
       "      <td>60.000000</td>\n",
       "      <td>None</td>\n",
       "      <td>0</td>\n",
       "      <td>Stop [5001]</td>\n",
       "      <td>None</td>\n",
       "      <td>Lamp Post</td>\n",
       "      <td>At-grade</td>\n",
       "      <td>POINT (36637.996 32681.438)</td>\n",
       "    </tr>\n",
       "    <tr>\n",
       "      <th>3</th>\n",
       "      <td>None</td>\n",
       "      <td>70.000000</td>\n",
       "      <td>None</td>\n",
       "      <td>0</td>\n",
       "      <td>Stop [5001]</td>\n",
       "      <td>None</td>\n",
       "      <td>1-Pole</td>\n",
       "      <td>At-grade</td>\n",
       "      <td>POINT (36691.742 32566.869)</td>\n",
       "    </tr>\n",
       "    <tr>\n",
       "      <th>4</th>\n",
       "      <td>None</td>\n",
       "      <td>70.000000</td>\n",
       "      <td>None</td>\n",
       "      <td>0</td>\n",
       "      <td>Slow [2043]</td>\n",
       "      <td>None</td>\n",
       "      <td>1-Pole</td>\n",
       "      <td>At-grade</td>\n",
       "      <td>POINT (36815.129 32591.316)</td>\n",
       "    </tr>\n",
       "  </tbody>\n",
       "</table>\n",
       "</div>"
      ],
      "text/plain": [
       "  TYP_CD   BEARG_NUM MOUNT_MTD_  LVL_NUM              TYP_CD_DES BEARG_NUM_  \\\n",
       "0   None   70.284797       None        0  No Through Road [3002]       None   \n",
       "1   None  229.406497       None        0         No Entry [1003]       None   \n",
       "2   None   60.000000       None        0             Stop [5001]       None   \n",
       "3   None   70.000000       None        0             Stop [5001]       None   \n",
       "4   None   70.000000       None        0             Slow [2043]       None   \n",
       "\n",
       "  MOUNT_MTD1 LVL_NUM_DE                     geometry  \n",
       "0     1-Pole   At-grade  POINT (41318.763 35464.227)  \n",
       "1     1-Pole   At-grade      POINT (41009 35897.478)  \n",
       "2  Lamp Post   At-grade  POINT (36637.996 32681.438)  \n",
       "3     1-Pole   At-grade  POINT (36691.742 32566.869)  \n",
       "4     1-Pole   At-grade  POINT (36815.129 32591.316)  "
      ]
     },
     "execution_count": 99,
     "metadata": {},
     "output_type": "execute_result"
    }
   ],
   "source": [
    "trafficsign.head()"
   ]
  },
  {
   "cell_type": "code",
   "execution_count": 100,
   "id": "f542ba97",
   "metadata": {},
   "outputs": [],
   "source": [
    "trafficsign_near_school = gpd.sjoin(schoolzone, trafficsign, how=\"left\", predicate=\"contains\")"
   ]
  },
  {
   "cell_type": "code",
   "execution_count": 101,
   "id": "a7e29ac3",
   "metadata": {},
   "outputs": [
    {
     "data": {
      "text/html": [
       "<div>\n",
       "<style scoped>\n",
       "    .dataframe tbody tr th:only-of-type {\n",
       "        vertical-align: middle;\n",
       "    }\n",
       "\n",
       "    .dataframe tbody tr th {\n",
       "        vertical-align: top;\n",
       "    }\n",
       "\n",
       "    .dataframe thead th {\n",
       "        text-align: right;\n",
       "    }\n",
       "</style>\n",
       "<table border=\"1\" class=\"dataframe\">\n",
       "  <thead>\n",
       "    <tr style=\"text-align: right;\">\n",
       "      <th></th>\n",
       "      <th>School</th>\n",
       "      <th>geometry</th>\n",
       "      <th>buffer_100m</th>\n",
       "      <th>index_right</th>\n",
       "      <th>TYP_CD</th>\n",
       "      <th>BEARG_NUM</th>\n",
       "      <th>MOUNT_MTD_</th>\n",
       "      <th>LVL_NUM</th>\n",
       "      <th>TYP_CD_DES</th>\n",
       "      <th>BEARG_NUM_</th>\n",
       "      <th>MOUNT_MTD1</th>\n",
       "      <th>LVL_NUM_DE</th>\n",
       "    </tr>\n",
       "  </thead>\n",
       "  <tbody>\n",
       "    <tr>\n",
       "      <th>0</th>\n",
       "      <td>Tampines North Primary School</td>\n",
       "      <td>POLYGON ((40842.783 38015.203, 40867.289 38008...</td>\n",
       "      <td>POLYGON ((40748.934 38049.733, 40752.796 38058...</td>\n",
       "      <td>73331</td>\n",
       "      <td>None</td>\n",
       "      <td>110.492595</td>\n",
       "      <td>None</td>\n",
       "      <td>0</td>\n",
       "      <td>Parking Places [3012]</td>\n",
       "      <td>None</td>\n",
       "      <td>2-Pole</td>\n",
       "      <td>At-grade</td>\n",
       "    </tr>\n",
       "    <tr>\n",
       "      <th>0</th>\n",
       "      <td>Tampines North Primary School</td>\n",
       "      <td>POLYGON ((40842.783 38015.203, 40867.289 38008...</td>\n",
       "      <td>POLYGON ((40748.934 38049.733, 40752.796 38058...</td>\n",
       "      <td>108508</td>\n",
       "      <td>None</td>\n",
       "      <td>89.278440</td>\n",
       "      <td>None</td>\n",
       "      <td>0</td>\n",
       "      <td>Pedestrian Crossing Prohibition (graphic with ...</td>\n",
       "      <td>None</td>\n",
       "      <td>1-Pole</td>\n",
       "      <td>At-grade</td>\n",
       "    </tr>\n",
       "    <tr>\n",
       "      <th>0</th>\n",
       "      <td>Tampines North Primary School</td>\n",
       "      <td>POLYGON ((40842.783 38015.203, 40867.289 38008...</td>\n",
       "      <td>POLYGON ((40748.934 38049.733, 40752.796 38058...</td>\n",
       "      <td>108504</td>\n",
       "      <td>None</td>\n",
       "      <td>270.000000</td>\n",
       "      <td>None</td>\n",
       "      <td>0</td>\n",
       "      <td>Raised Zebra Crossing Ahead [2053]</td>\n",
       "      <td>None</td>\n",
       "      <td>1-Pole</td>\n",
       "      <td>At-grade</td>\n",
       "    </tr>\n",
       "    <tr>\n",
       "      <th>0</th>\n",
       "      <td>Tampines North Primary School</td>\n",
       "      <td>POLYGON ((40842.783 38015.203, 40867.289 38008...</td>\n",
       "      <td>POLYGON ((40748.934 38049.733, 40752.796 38058...</td>\n",
       "      <td>34487</td>\n",
       "      <td>None</td>\n",
       "      <td>89.371684</td>\n",
       "      <td>None</td>\n",
       "      <td>0</td>\n",
       "      <td>No Through Road [3002]</td>\n",
       "      <td>None</td>\n",
       "      <td>1-Pole</td>\n",
       "      <td>At-grade</td>\n",
       "    </tr>\n",
       "    <tr>\n",
       "      <th>0</th>\n",
       "      <td>Tampines North Primary School</td>\n",
       "      <td>POLYGON ((40842.783 38015.203, 40867.289 38008...</td>\n",
       "      <td>POLYGON ((40748.934 38049.733, 40752.796 38058...</td>\n",
       "      <td>30108</td>\n",
       "      <td>None</td>\n",
       "      <td>91.273030</td>\n",
       "      <td>None</td>\n",
       "      <td>0</td>\n",
       "      <td>To HDB Carpark Only [4056]</td>\n",
       "      <td>None</td>\n",
       "      <td>1-Pole</td>\n",
       "      <td>At-grade</td>\n",
       "    </tr>\n",
       "    <tr>\n",
       "      <th>...</th>\n",
       "      <td>...</td>\n",
       "      <td>...</td>\n",
       "      <td>...</td>\n",
       "      <td>...</td>\n",
       "      <td>...</td>\n",
       "      <td>...</td>\n",
       "      <td>...</td>\n",
       "      <td>...</td>\n",
       "      <td>...</td>\n",
       "      <td>...</td>\n",
       "      <td>...</td>\n",
       "      <td>...</td>\n",
       "    </tr>\n",
       "    <tr>\n",
       "      <th>210</th>\n",
       "      <td>Springdale Primary School</td>\n",
       "      <td>POLYGON ((34385.53 41818.258, 34357.157 41822....</td>\n",
       "      <td>POLYGON ((34264.982 41861.734, 34274.391 41933...</td>\n",
       "      <td>74226</td>\n",
       "      <td>None</td>\n",
       "      <td>189.453138</td>\n",
       "      <td>None</td>\n",
       "      <td>0</td>\n",
       "      <td>Directional Arrows (single headed) [4006]</td>\n",
       "      <td>None</td>\n",
       "      <td>1-Pole</td>\n",
       "      <td>At-grade</td>\n",
       "    </tr>\n",
       "    <tr>\n",
       "      <th>210</th>\n",
       "      <td>Springdale Primary School</td>\n",
       "      <td>POLYGON ((34385.53 41818.258, 34357.157 41822....</td>\n",
       "      <td>POLYGON ((34264.982 41861.734, 34274.391 41933...</td>\n",
       "      <td>72725</td>\n",
       "      <td>None</td>\n",
       "      <td>95.642761</td>\n",
       "      <td>None</td>\n",
       "      <td>0</td>\n",
       "      <td>Pedestrian Crossing Prohibition (graphic with ...</td>\n",
       "      <td>None</td>\n",
       "      <td>1-Pole</td>\n",
       "      <td>At-grade</td>\n",
       "    </tr>\n",
       "    <tr>\n",
       "      <th>210</th>\n",
       "      <td>Springdale Primary School</td>\n",
       "      <td>POLYGON ((34385.53 41818.258, 34357.157 41822....</td>\n",
       "      <td>POLYGON ((34264.982 41861.734, 34274.391 41933...</td>\n",
       "      <td>44451</td>\n",
       "      <td>None</td>\n",
       "      <td>8.801706</td>\n",
       "      <td>None</td>\n",
       "      <td>0</td>\n",
       "      <td>Street Name Single-Sided, Non-Ethnic [6001]</td>\n",
       "      <td>None</td>\n",
       "      <td>1-Pole</td>\n",
       "      <td>At-grade</td>\n",
       "    </tr>\n",
       "    <tr>\n",
       "      <th>210</th>\n",
       "      <td>Springdale Primary School</td>\n",
       "      <td>POLYGON ((34385.53 41818.258, 34357.157 41822....</td>\n",
       "      <td>POLYGON ((34264.982 41861.734, 34274.391 41933...</td>\n",
       "      <td>72745</td>\n",
       "      <td>None</td>\n",
       "      <td>9.569626</td>\n",
       "      <td>None</td>\n",
       "      <td>0</td>\n",
       "      <td>Directional Arrows (single headed) [4006]</td>\n",
       "      <td>None</td>\n",
       "      <td>1-Pole</td>\n",
       "      <td>At-grade</td>\n",
       "    </tr>\n",
       "    <tr>\n",
       "      <th>210</th>\n",
       "      <td>Springdale Primary School</td>\n",
       "      <td>POLYGON ((34385.53 41818.258, 34357.157 41822....</td>\n",
       "      <td>POLYGON ((34264.982 41861.734, 34274.391 41933...</td>\n",
       "      <td>106327</td>\n",
       "      <td>None</td>\n",
       "      <td>282.216709</td>\n",
       "      <td>None</td>\n",
       "      <td>0</td>\n",
       "      <td>Pedestrian Crossing Prohibition (graphic with ...</td>\n",
       "      <td>None</td>\n",
       "      <td>1-Pole</td>\n",
       "      <td>At-grade</td>\n",
       "    </tr>\n",
       "  </tbody>\n",
       "</table>\n",
       "<p>15257 rows × 12 columns</p>\n",
       "</div>"
      ],
      "text/plain": [
       "                            School  \\\n",
       "0    Tampines North Primary School   \n",
       "0    Tampines North Primary School   \n",
       "0    Tampines North Primary School   \n",
       "0    Tampines North Primary School   \n",
       "0    Tampines North Primary School   \n",
       "..                             ...   \n",
       "210      Springdale Primary School   \n",
       "210      Springdale Primary School   \n",
       "210      Springdale Primary School   \n",
       "210      Springdale Primary School   \n",
       "210      Springdale Primary School   \n",
       "\n",
       "                                              geometry  \\\n",
       "0    POLYGON ((40842.783 38015.203, 40867.289 38008...   \n",
       "0    POLYGON ((40842.783 38015.203, 40867.289 38008...   \n",
       "0    POLYGON ((40842.783 38015.203, 40867.289 38008...   \n",
       "0    POLYGON ((40842.783 38015.203, 40867.289 38008...   \n",
       "0    POLYGON ((40842.783 38015.203, 40867.289 38008...   \n",
       "..                                                 ...   \n",
       "210  POLYGON ((34385.53 41818.258, 34357.157 41822....   \n",
       "210  POLYGON ((34385.53 41818.258, 34357.157 41822....   \n",
       "210  POLYGON ((34385.53 41818.258, 34357.157 41822....   \n",
       "210  POLYGON ((34385.53 41818.258, 34357.157 41822....   \n",
       "210  POLYGON ((34385.53 41818.258, 34357.157 41822....   \n",
       "\n",
       "                                           buffer_100m  index_right TYP_CD  \\\n",
       "0    POLYGON ((40748.934 38049.733, 40752.796 38058...        73331   None   \n",
       "0    POLYGON ((40748.934 38049.733, 40752.796 38058...       108508   None   \n",
       "0    POLYGON ((40748.934 38049.733, 40752.796 38058...       108504   None   \n",
       "0    POLYGON ((40748.934 38049.733, 40752.796 38058...        34487   None   \n",
       "0    POLYGON ((40748.934 38049.733, 40752.796 38058...        30108   None   \n",
       "..                                                 ...          ...    ...   \n",
       "210  POLYGON ((34264.982 41861.734, 34274.391 41933...        74226   None   \n",
       "210  POLYGON ((34264.982 41861.734, 34274.391 41933...        72725   None   \n",
       "210  POLYGON ((34264.982 41861.734, 34274.391 41933...        44451   None   \n",
       "210  POLYGON ((34264.982 41861.734, 34274.391 41933...        72745   None   \n",
       "210  POLYGON ((34264.982 41861.734, 34274.391 41933...       106327   None   \n",
       "\n",
       "      BEARG_NUM MOUNT_MTD_  LVL_NUM  \\\n",
       "0    110.492595       None        0   \n",
       "0     89.278440       None        0   \n",
       "0    270.000000       None        0   \n",
       "0     89.371684       None        0   \n",
       "0     91.273030       None        0   \n",
       "..          ...        ...      ...   \n",
       "210  189.453138       None        0   \n",
       "210   95.642761       None        0   \n",
       "210    8.801706       None        0   \n",
       "210    9.569626       None        0   \n",
       "210  282.216709       None        0   \n",
       "\n",
       "                                            TYP_CD_DES BEARG_NUM_ MOUNT_MTD1  \\\n",
       "0                                Parking Places [3012]       None     2-Pole   \n",
       "0    Pedestrian Crossing Prohibition (graphic with ...       None     1-Pole   \n",
       "0                   Raised Zebra Crossing Ahead [2053]       None     1-Pole   \n",
       "0                               No Through Road [3002]       None     1-Pole   \n",
       "0                           To HDB Carpark Only [4056]       None     1-Pole   \n",
       "..                                                 ...        ...        ...   \n",
       "210          Directional Arrows (single headed) [4006]       None     1-Pole   \n",
       "210  Pedestrian Crossing Prohibition (graphic with ...       None     1-Pole   \n",
       "210        Street Name Single-Sided, Non-Ethnic [6001]       None     1-Pole   \n",
       "210          Directional Arrows (single headed) [4006]       None     1-Pole   \n",
       "210  Pedestrian Crossing Prohibition (graphic with ...       None     1-Pole   \n",
       "\n",
       "    LVL_NUM_DE  \n",
       "0     At-grade  \n",
       "0     At-grade  \n",
       "0     At-grade  \n",
       "0     At-grade  \n",
       "0     At-grade  \n",
       "..         ...  \n",
       "210   At-grade  \n",
       "210   At-grade  \n",
       "210   At-grade  \n",
       "210   At-grade  \n",
       "210   At-grade  \n",
       "\n",
       "[15257 rows x 12 columns]"
      ]
     },
     "execution_count": 101,
     "metadata": {},
     "output_type": "execute_result"
    }
   ],
   "source": [
    "trafficsign_near_school"
   ]
  },
  {
   "cell_type": "code",
   "execution_count": 102,
   "id": "31770ae4",
   "metadata": {},
   "outputs": [],
   "source": [
    "trafficsign_near_school.drop(columns=[\"TYP_CD\",\"BEARG_NUM\", \"MOUNT_MTD_\", \"LVL_NUM\", \"BEARG_NUM_\", \"MOUNT_MTD1\", \"LVL_NUM\", \"LVL_NUM_DE\"], inplace=True)"
   ]
  },
  {
   "cell_type": "code",
   "execution_count": 103,
   "id": "57f57128",
   "metadata": {},
   "outputs": [],
   "source": [
    "trafficsign_near_school[\"object_type\"] = \"Traffic Sign\"\n",
    "trafficsign_near_school.rename(columns={\"index_right\": \"object_index\"}, inplace=True)"
   ]
  },
  {
   "cell_type": "code",
   "execution_count": 104,
   "id": "08e9f6f5",
   "metadata": {},
   "outputs": [
    {
     "data": {
      "text/html": [
       "<div>\n",
       "<style scoped>\n",
       "    .dataframe tbody tr th:only-of-type {\n",
       "        vertical-align: middle;\n",
       "    }\n",
       "\n",
       "    .dataframe tbody tr th {\n",
       "        vertical-align: top;\n",
       "    }\n",
       "\n",
       "    .dataframe thead th {\n",
       "        text-align: right;\n",
       "    }\n",
       "</style>\n",
       "<table border=\"1\" class=\"dataframe\">\n",
       "  <thead>\n",
       "    <tr style=\"text-align: right;\">\n",
       "      <th></th>\n",
       "      <th>School</th>\n",
       "      <th>geometry</th>\n",
       "      <th>buffer_100m</th>\n",
       "      <th>object_index</th>\n",
       "      <th>TYP_CD_DES</th>\n",
       "      <th>object_type</th>\n",
       "    </tr>\n",
       "  </thead>\n",
       "  <tbody>\n",
       "    <tr>\n",
       "      <th>0</th>\n",
       "      <td>Tampines North Primary School</td>\n",
       "      <td>POLYGON ((40842.783 38015.203, 40867.289 38008...</td>\n",
       "      <td>POLYGON ((40748.934 38049.733, 40752.796 38058...</td>\n",
       "      <td>73331</td>\n",
       "      <td>Parking Places [3012]</td>\n",
       "      <td>Traffic Sign</td>\n",
       "    </tr>\n",
       "    <tr>\n",
       "      <th>0</th>\n",
       "      <td>Tampines North Primary School</td>\n",
       "      <td>POLYGON ((40842.783 38015.203, 40867.289 38008...</td>\n",
       "      <td>POLYGON ((40748.934 38049.733, 40752.796 38058...</td>\n",
       "      <td>108508</td>\n",
       "      <td>Pedestrian Crossing Prohibition (graphic with ...</td>\n",
       "      <td>Traffic Sign</td>\n",
       "    </tr>\n",
       "    <tr>\n",
       "      <th>0</th>\n",
       "      <td>Tampines North Primary School</td>\n",
       "      <td>POLYGON ((40842.783 38015.203, 40867.289 38008...</td>\n",
       "      <td>POLYGON ((40748.934 38049.733, 40752.796 38058...</td>\n",
       "      <td>108504</td>\n",
       "      <td>Raised Zebra Crossing Ahead [2053]</td>\n",
       "      <td>Traffic Sign</td>\n",
       "    </tr>\n",
       "    <tr>\n",
       "      <th>0</th>\n",
       "      <td>Tampines North Primary School</td>\n",
       "      <td>POLYGON ((40842.783 38015.203, 40867.289 38008...</td>\n",
       "      <td>POLYGON ((40748.934 38049.733, 40752.796 38058...</td>\n",
       "      <td>34487</td>\n",
       "      <td>No Through Road [3002]</td>\n",
       "      <td>Traffic Sign</td>\n",
       "    </tr>\n",
       "    <tr>\n",
       "      <th>0</th>\n",
       "      <td>Tampines North Primary School</td>\n",
       "      <td>POLYGON ((40842.783 38015.203, 40867.289 38008...</td>\n",
       "      <td>POLYGON ((40748.934 38049.733, 40752.796 38058...</td>\n",
       "      <td>30108</td>\n",
       "      <td>To HDB Carpark Only [4056]</td>\n",
       "      <td>Traffic Sign</td>\n",
       "    </tr>\n",
       "  </tbody>\n",
       "</table>\n",
       "</div>"
      ],
      "text/plain": [
       "                          School  \\\n",
       "0  Tampines North Primary School   \n",
       "0  Tampines North Primary School   \n",
       "0  Tampines North Primary School   \n",
       "0  Tampines North Primary School   \n",
       "0  Tampines North Primary School   \n",
       "\n",
       "                                            geometry  \\\n",
       "0  POLYGON ((40842.783 38015.203, 40867.289 38008...   \n",
       "0  POLYGON ((40842.783 38015.203, 40867.289 38008...   \n",
       "0  POLYGON ((40842.783 38015.203, 40867.289 38008...   \n",
       "0  POLYGON ((40842.783 38015.203, 40867.289 38008...   \n",
       "0  POLYGON ((40842.783 38015.203, 40867.289 38008...   \n",
       "\n",
       "                                         buffer_100m  object_index  \\\n",
       "0  POLYGON ((40748.934 38049.733, 40752.796 38058...         73331   \n",
       "0  POLYGON ((40748.934 38049.733, 40752.796 38058...        108508   \n",
       "0  POLYGON ((40748.934 38049.733, 40752.796 38058...        108504   \n",
       "0  POLYGON ((40748.934 38049.733, 40752.796 38058...         34487   \n",
       "0  POLYGON ((40748.934 38049.733, 40752.796 38058...         30108   \n",
       "\n",
       "                                          TYP_CD_DES   object_type  \n",
       "0                              Parking Places [3012]  Traffic Sign  \n",
       "0  Pedestrian Crossing Prohibition (graphic with ...  Traffic Sign  \n",
       "0                 Raised Zebra Crossing Ahead [2053]  Traffic Sign  \n",
       "0                             No Through Road [3002]  Traffic Sign  \n",
       "0                         To HDB Carpark Only [4056]  Traffic Sign  "
      ]
     },
     "execution_count": 104,
     "metadata": {},
     "output_type": "execute_result"
    }
   ],
   "source": [
    "trafficsign_near_school.head()"
   ]
  },
  {
   "cell_type": "code",
   "execution_count": 105,
   "id": "1f807c93",
   "metadata": {},
   "outputs": [
    {
     "data": {
      "text/plain": [
       "School            object\n",
       "geometry        geometry\n",
       "buffer_100m     geometry\n",
       "object_index       int64\n",
       "TYP_CD_DES        object\n",
       "object_type       object\n",
       "dtype: object"
      ]
     },
     "execution_count": 105,
     "metadata": {},
     "output_type": "execute_result"
    }
   ],
   "source": [
    "trafficsign_near_school.dtypes"
   ]
  },
  {
   "cell_type": "code",
   "execution_count": 106,
   "id": "569a0476",
   "metadata": {},
   "outputs": [
    {
     "data": {
      "image/png": "[encoded data removed]",
      "text/plain": [
       "<Figure size 800x600 with 1 Axes>"
      ]
     },
     "metadata": {},
     "output_type": "display_data"
    }
   ],
   "source": [
    "trafficsign_near_school[trafficsign_near_school[\"TYP_CD_DES\"].str.\n",
    "contains(\"School\", case=False, na=False)].groupby(\"School\")[\"object_index\"].count().plot.hist(\n",
    "    bins=range(0, int(trafficsign_near_school[trafficsign_near_school[\"TYP_CD_DES\"].str.\n",
    "    contains(\"School\", case=False, na=False)].groupby(\"School\")[\"object_index\"].count().max())+ 3), \n",
    "    edgecolor=\"black\",\n",
    "    figsize=(8,6)\n",
    ")\n",
    "\n",
    "plt.title(\"Distribution of Traffic Signs per School\")\n",
    "plt.xlabel(\"Number of Traffic Signs within 100m\")\n",
    "plt.ylabel(\"Number of Schools\")\n",
    "plt.show()"
   ]
  },
  {
   "cell_type": "code",
   "execution_count": 139,
   "id": "813b20fc",
   "metadata": {},
   "outputs": [
    {
     "data": {
      "image/png": "[encoded data removed]",
      "text/plain": [
       "<Figure size 640x480 with 1 Axes>"
      ]
     },
     "metadata": {},
     "output_type": "display_data"
    }
   ],
   "source": [
    "sns.boxplot(trafficsign_near_school.groupby(\"School\")[\"object_index\"].count())\n",
    "\n",
    "plt.title(\"Distribution of Traffic Signs per School\")\n",
    "plt.ylabel(\"Number of Traffic Signs within 100m\")\n",
    "plt.show()"
   ]
  },
  {
   "cell_type": "code",
   "execution_count": 145,
   "id": "de83a036",
   "metadata": {},
   "outputs": [
    {
     "data": {
      "text/plain": [
       "count    206.000000\n",
       "mean      74.063107\n",
       "std       31.340940\n",
       "min        4.000000\n",
       "25%       55.250000\n",
       "50%       68.000000\n",
       "75%       87.750000\n",
       "max      250.000000\n",
       "Name: object_index, dtype: float64"
      ]
     },
     "execution_count": 145,
     "metadata": {},
     "output_type": "execute_result"
    }
   ],
   "source": [
    "trafficsign_near_school.groupby(\"School\")[\"object_index\"].count().describe()"
   ]
  },
  {
   "cell_type": "code",
   "execution_count": 107,
   "id": "38d9e42d",
   "metadata": {},
   "outputs": [],
   "source": [
    "wordmarking = gpd.read_file(\"./datasets/WordMarking.shp\")"
   ]
  },
  {
   "cell_type": "code",
   "execution_count": 108,
   "id": "6feab457",
   "metadata": {},
   "outputs": [
    {
     "data": {
      "text/html": [
       "<div>\n",
       "<style scoped>\n",
       "    .dataframe tbody tr th:only-of-type {\n",
       "        vertical-align: middle;\n",
       "    }\n",
       "\n",
       "    .dataframe tbody tr th {\n",
       "        vertical-align: top;\n",
       "    }\n",
       "\n",
       "    .dataframe thead th {\n",
       "        text-align: right;\n",
       "    }\n",
       "</style>\n",
       "<table border=\"1\" class=\"dataframe\">\n",
       "  <thead>\n",
       "    <tr style=\"text-align: right;\">\n",
       "      <th></th>\n",
       "      <th>DESC_TXT</th>\n",
       "      <th>BEARG_NUM</th>\n",
       "      <th>LVL_NUM</th>\n",
       "      <th>BEARG_NUM_</th>\n",
       "      <th>LVL_NUM_DE</th>\n",
       "      <th>DESC_TXT_D</th>\n",
       "      <th>geometry</th>\n",
       "    </tr>\n",
       "  </thead>\n",
       "  <tbody>\n",
       "    <tr>\n",
       "      <th>0</th>\n",
       "      <td>None</td>\n",
       "      <td>195.363276</td>\n",
       "      <td>0</td>\n",
       "      <td>None</td>\n",
       "      <td>At-grade</td>\n",
       "      <td>LOOK LEFT RIGHT ARROW</td>\n",
       "      <td>POINT (30530.986 38809.887)</td>\n",
       "    </tr>\n",
       "    <tr>\n",
       "      <th>1</th>\n",
       "      <td>None</td>\n",
       "      <td>34.000000</td>\n",
       "      <td>0</td>\n",
       "      <td>None</td>\n",
       "      <td>At-grade</td>\n",
       "      <td>HUMP</td>\n",
       "      <td>POINT (20887.633 47731.339)</td>\n",
       "    </tr>\n",
       "    <tr>\n",
       "      <th>2</th>\n",
       "      <td>None</td>\n",
       "      <td>142.471538</td>\n",
       "      <td>0</td>\n",
       "      <td>None</td>\n",
       "      <td>At-grade</td>\n",
       "      <td>HUMP</td>\n",
       "      <td>POINT (25595.069 35934.373)</td>\n",
       "    </tr>\n",
       "    <tr>\n",
       "      <th>3</th>\n",
       "      <td>None</td>\n",
       "      <td>260.232352</td>\n",
       "      <td>0</td>\n",
       "      <td>None</td>\n",
       "      <td>At-grade</td>\n",
       "      <td>AHEAD</td>\n",
       "      <td>POINT (17671.972 35738.342)</td>\n",
       "    </tr>\n",
       "    <tr>\n",
       "      <th>4</th>\n",
       "      <td>None</td>\n",
       "      <td>67.531118</td>\n",
       "      <td>0</td>\n",
       "      <td>None</td>\n",
       "      <td>At-grade</td>\n",
       "      <td>SLOW</td>\n",
       "      <td>POINT (24462.994 47573.461)</td>\n",
       "    </tr>\n",
       "  </tbody>\n",
       "</table>\n",
       "</div>"
      ],
      "text/plain": [
       "  DESC_TXT   BEARG_NUM  LVL_NUM BEARG_NUM_ LVL_NUM_DE             DESC_TXT_D  \\\n",
       "0     None  195.363276        0       None   At-grade  LOOK LEFT RIGHT ARROW   \n",
       "1     None   34.000000        0       None   At-grade                   HUMP   \n",
       "2     None  142.471538        0       None   At-grade                   HUMP   \n",
       "3     None  260.232352        0       None   At-grade                  AHEAD   \n",
       "4     None   67.531118        0       None   At-grade                   SLOW   \n",
       "\n",
       "                      geometry  \n",
       "0  POINT (30530.986 38809.887)  \n",
       "1  POINT (20887.633 47731.339)  \n",
       "2  POINT (25595.069 35934.373)  \n",
       "3  POINT (17671.972 35738.342)  \n",
       "4  POINT (24462.994 47573.461)  "
      ]
     },
     "execution_count": 108,
     "metadata": {},
     "output_type": "execute_result"
    }
   ],
   "source": [
    "wordmarking.head()"
   ]
  },
  {
   "cell_type": "code",
   "execution_count": 109,
   "id": "98784897",
   "metadata": {},
   "outputs": [
    {
     "data": {
      "text/plain": [
       "DESC_TXT         22\n",
       "BEARG_NUM     27556\n",
       "LVL_NUM       27556\n",
       "BEARG_NUM_        0\n",
       "LVL_NUM_DE    27553\n",
       "DESC_TXT_D    27534\n",
       "geometry      27556\n",
       "dtype: int64"
      ]
     },
     "execution_count": 109,
     "metadata": {},
     "output_type": "execute_result"
    }
   ],
   "source": [
    "wordmarking.count()"
   ]
  },
  {
   "cell_type": "code",
   "execution_count": 110,
   "id": "35e4a51d",
   "metadata": {},
   "outputs": [],
   "source": [
    "wordmarking_near_school = gpd.sjoin(schoolzone, wordmarking, how=\"left\", predicate=\"contains\")"
   ]
  },
  {
   "cell_type": "code",
   "execution_count": 111,
   "id": "597dbfb9",
   "metadata": {},
   "outputs": [],
   "source": [
    "wordmarking_near_school.drop(columns=[\"DESC_TXT\",\"BEARG_NUM\", \"LVL_NUM\", \"BEARG_NUM_\", \"LVL_NUM_DE\", \"DESC_TXT_D\"], inplace=True)"
   ]
  },
  {
   "cell_type": "code",
   "execution_count": 112,
   "id": "64d2faa6",
   "metadata": {},
   "outputs": [],
   "source": [
    "wordmarking_near_school[\"OBJECTID\"] = np.nan\n",
    "wordmarking_near_school[\"object_type\"] = \"Word Marking\"\n",
    "wordmarking_near_school.rename(columns={\"index_right\": \"object_index\"}, inplace=True)"
   ]
  },
  {
   "cell_type": "code",
   "execution_count": 113,
   "id": "d6f04b9a",
   "metadata": {},
   "outputs": [
    {
     "data": {
      "text/html": [
       "<div>\n",
       "<style scoped>\n",
       "    .dataframe tbody tr th:only-of-type {\n",
       "        vertical-align: middle;\n",
       "    }\n",
       "\n",
       "    .dataframe tbody tr th {\n",
       "        vertical-align: top;\n",
       "    }\n",
       "\n",
       "    .dataframe thead th {\n",
       "        text-align: right;\n",
       "    }\n",
       "</style>\n",
       "<table border=\"1\" class=\"dataframe\">\n",
       "  <thead>\n",
       "    <tr style=\"text-align: right;\">\n",
       "      <th></th>\n",
       "      <th>School</th>\n",
       "      <th>geometry</th>\n",
       "      <th>buffer_100m</th>\n",
       "      <th>object_index</th>\n",
       "      <th>OBJECTID</th>\n",
       "      <th>object_type</th>\n",
       "    </tr>\n",
       "  </thead>\n",
       "  <tbody>\n",
       "    <tr>\n",
       "      <th>0</th>\n",
       "      <td>Tampines North Primary School</td>\n",
       "      <td>POLYGON ((40842.783 38015.203, 40867.289 38008...</td>\n",
       "      <td>POLYGON ((40748.934 38049.733, 40752.796 38058...</td>\n",
       "      <td>5600.0</td>\n",
       "      <td>NaN</td>\n",
       "      <td>Word Marking</td>\n",
       "    </tr>\n",
       "    <tr>\n",
       "      <th>0</th>\n",
       "      <td>Tampines North Primary School</td>\n",
       "      <td>POLYGON ((40842.783 38015.203, 40867.289 38008...</td>\n",
       "      <td>POLYGON ((40748.934 38049.733, 40752.796 38058...</td>\n",
       "      <td>9009.0</td>\n",
       "      <td>NaN</td>\n",
       "      <td>Word Marking</td>\n",
       "    </tr>\n",
       "    <tr>\n",
       "      <th>0</th>\n",
       "      <td>Tampines North Primary School</td>\n",
       "      <td>POLYGON ((40842.783 38015.203, 40867.289 38008...</td>\n",
       "      <td>POLYGON ((40748.934 38049.733, 40752.796 38058...</td>\n",
       "      <td>4690.0</td>\n",
       "      <td>NaN</td>\n",
       "      <td>Word Marking</td>\n",
       "    </tr>\n",
       "    <tr>\n",
       "      <th>0</th>\n",
       "      <td>Tampines North Primary School</td>\n",
       "      <td>POLYGON ((40842.783 38015.203, 40867.289 38008...</td>\n",
       "      <td>POLYGON ((40748.934 38049.733, 40752.796 38058...</td>\n",
       "      <td>20255.0</td>\n",
       "      <td>NaN</td>\n",
       "      <td>Word Marking</td>\n",
       "    </tr>\n",
       "    <tr>\n",
       "      <th>0</th>\n",
       "      <td>Tampines North Primary School</td>\n",
       "      <td>POLYGON ((40842.783 38015.203, 40867.289 38008...</td>\n",
       "      <td>POLYGON ((40748.934 38049.733, 40752.796 38058...</td>\n",
       "      <td>20253.0</td>\n",
       "      <td>NaN</td>\n",
       "      <td>Word Marking</td>\n",
       "    </tr>\n",
       "  </tbody>\n",
       "</table>\n",
       "</div>"
      ],
      "text/plain": [
       "                          School  \\\n",
       "0  Tampines North Primary School   \n",
       "0  Tampines North Primary School   \n",
       "0  Tampines North Primary School   \n",
       "0  Tampines North Primary School   \n",
       "0  Tampines North Primary School   \n",
       "\n",
       "                                            geometry  \\\n",
       "0  POLYGON ((40842.783 38015.203, 40867.289 38008...   \n",
       "0  POLYGON ((40842.783 38015.203, 40867.289 38008...   \n",
       "0  POLYGON ((40842.783 38015.203, 40867.289 38008...   \n",
       "0  POLYGON ((40842.783 38015.203, 40867.289 38008...   \n",
       "0  POLYGON ((40842.783 38015.203, 40867.289 38008...   \n",
       "\n",
       "                                         buffer_100m  object_index  OBJECTID  \\\n",
       "0  POLYGON ((40748.934 38049.733, 40752.796 38058...        5600.0       NaN   \n",
       "0  POLYGON ((40748.934 38049.733, 40752.796 38058...        9009.0       NaN   \n",
       "0  POLYGON ((40748.934 38049.733, 40752.796 38058...        4690.0       NaN   \n",
       "0  POLYGON ((40748.934 38049.733, 40752.796 38058...       20255.0       NaN   \n",
       "0  POLYGON ((40748.934 38049.733, 40752.796 38058...       20253.0       NaN   \n",
       "\n",
       "    object_type  \n",
       "0  Word Marking  \n",
       "0  Word Marking  \n",
       "0  Word Marking  \n",
       "0  Word Marking  \n",
       "0  Word Marking  "
      ]
     },
     "execution_count": 113,
     "metadata": {},
     "output_type": "execute_result"
    }
   ],
   "source": [
    "wordmarking_near_school.head()"
   ]
  },
  {
   "cell_type": "code",
   "execution_count": 114,
   "id": "c25e6779",
   "metadata": {},
   "outputs": [
    {
     "data": {
      "image/png": "[encoded data removed]",
      "text/plain": [
       "<Figure size 800x600 with 1 Axes>"
      ]
     },
     "metadata": {},
     "output_type": "display_data"
    }
   ],
   "source": [
    "wordmarking_near_school.groupby(\"School\")[\"object_index\"].count().plot.hist(\n",
    "    bins=range(0, wordmarking_near_school.groupby(\"School\")[\"object_index\"].count().max() + 3), \n",
    "    edgecolor=\"black\",\n",
    "    figsize=(8,6)\n",
    ")\n",
    "\n",
    "plt.title(\"Distribution of Word Markings per School\")\n",
    "plt.xlabel(\"Number of Word Markings within 100m\")\n",
    "plt.ylabel(\"Number of Schools\")\n",
    "plt.show()"
   ]
  },
  {
   "cell_type": "code",
   "execution_count": 149,
   "id": "5211e15a",
   "metadata": {},
   "outputs": [
    {
     "data": {
      "image/png": "[encoded data removed]",
      "text/plain": [
       "<Figure size 640x480 with 1 Axes>"
      ]
     },
     "metadata": {},
     "output_type": "display_data"
    }
   ],
   "source": [
    "sns.boxplot(wordmarking_near_school.groupby(\"School\")[\"object_index\"].count())\n",
    "\n",
    "plt.title(\"Distribution of Word Markings per School\")\n",
    "plt.ylabel(\"Number of Word Markings within 100m\")\n",
    "plt.show()"
   ]
  },
  {
   "cell_type": "code",
   "execution_count": 150,
   "id": "d0e4d238",
   "metadata": {},
   "outputs": [
    {
     "data": {
      "text/plain": [
       "count    206.000000\n",
       "mean      18.553398\n",
       "std       14.941334\n",
       "min        0.000000\n",
       "25%        9.250000\n",
       "50%       15.000000\n",
       "75%       23.750000\n",
       "max      120.000000\n",
       "Name: object_index, dtype: float64"
      ]
     },
     "execution_count": 150,
     "metadata": {},
     "output_type": "execute_result"
    }
   ],
   "source": [
    "wordmarking_near_school.groupby(\"School\")[\"object_index\"].count().describe()"
   ]
  },
  {
   "cell_type": "code",
   "execution_count": 115,
   "id": "592f2354",
   "metadata": {},
   "outputs": [
    {
     "data": {
      "text/html": [
       "<div>\n",
       "<style scoped>\n",
       "    .dataframe tbody tr th:only-of-type {\n",
       "        vertical-align: middle;\n",
       "    }\n",
       "\n",
       "    .dataframe tbody tr th {\n",
       "        vertical-align: top;\n",
       "    }\n",
       "\n",
       "    .dataframe thead th {\n",
       "        text-align: right;\n",
       "    }\n",
       "</style>\n",
       "<table border=\"1\" class=\"dataframe\">\n",
       "  <thead>\n",
       "    <tr style=\"text-align: right;\">\n",
       "      <th></th>\n",
       "      <th>School</th>\n",
       "      <th>geometry</th>\n",
       "      <th>buffer_100m</th>\n",
       "      <th>object_index</th>\n",
       "      <th>OBJECTID</th>\n",
       "      <th>object_type</th>\n",
       "      <th>TYP_CD_DES</th>\n",
       "    </tr>\n",
       "  </thead>\n",
       "  <tbody>\n",
       "    <tr>\n",
       "      <th>0</th>\n",
       "      <td>Tampines North Primary School</td>\n",
       "      <td>POLYGON ((40842.783 38015.203, 40867.289 38008...</td>\n",
       "      <td>POLYGON ((40748.934 38049.733, 40752.796 38058...</td>\n",
       "      <td>1049.0</td>\n",
       "      <td>1040.0</td>\n",
       "      <td>Road Crossing</td>\n",
       "      <td>NaN</td>\n",
       "    </tr>\n",
       "    <tr>\n",
       "      <th>1</th>\n",
       "      <td>Tampines North Primary School</td>\n",
       "      <td>POLYGON ((40842.783 38015.203, 40867.289 38008...</td>\n",
       "      <td>POLYGON ((40748.934 38049.733, 40752.796 38058...</td>\n",
       "      <td>1059.0</td>\n",
       "      <td>1050.0</td>\n",
       "      <td>Road Crossing</td>\n",
       "      <td>NaN</td>\n",
       "    </tr>\n",
       "    <tr>\n",
       "      <th>2</th>\n",
       "      <td>Tampines North Primary School</td>\n",
       "      <td>POLYGON ((40842.783 38015.203, 40867.289 38008...</td>\n",
       "      <td>POLYGON ((40748.934 38049.733, 40752.796 38058...</td>\n",
       "      <td>1055.0</td>\n",
       "      <td>1046.0</td>\n",
       "      <td>Road Crossing</td>\n",
       "      <td>NaN</td>\n",
       "    </tr>\n",
       "    <tr>\n",
       "      <th>3</th>\n",
       "      <td>Chij (Katong) Primary School</td>\n",
       "      <td>POLYGON ((36626.088 32204.211, 36651.952 32137...</td>\n",
       "      <td>POLYGON ((36600.091 32300.772, 36609.614 32302...</td>\n",
       "      <td>NaN</td>\n",
       "      <td>NaN</td>\n",
       "      <td>Road Crossing</td>\n",
       "      <td>NaN</td>\n",
       "    </tr>\n",
       "    <tr>\n",
       "      <th>4</th>\n",
       "      <td>Metta School</td>\n",
       "      <td>POLYGON ((41683.217 36527.433, 41853.609 36513...</td>\n",
       "      <td>POLYGON ((41583.244 36529.731, 41583.923 36539...</td>\n",
       "      <td>2254.0</td>\n",
       "      <td>2305.0</td>\n",
       "      <td>Road Crossing</td>\n",
       "      <td>NaN</td>\n",
       "    </tr>\n",
       "  </tbody>\n",
       "</table>\n",
       "</div>"
      ],
      "text/plain": [
       "                          School  \\\n",
       "0  Tampines North Primary School   \n",
       "1  Tampines North Primary School   \n",
       "2  Tampines North Primary School   \n",
       "3   Chij (Katong) Primary School   \n",
       "4                   Metta School   \n",
       "\n",
       "                                            geometry  \\\n",
       "0  POLYGON ((40842.783 38015.203, 40867.289 38008...   \n",
       "1  POLYGON ((40842.783 38015.203, 40867.289 38008...   \n",
       "2  POLYGON ((40842.783 38015.203, 40867.289 38008...   \n",
       "3  POLYGON ((36626.088 32204.211, 36651.952 32137...   \n",
       "4  POLYGON ((41683.217 36527.433, 41853.609 36513...   \n",
       "\n",
       "                                         buffer_100m  object_index  OBJECTID  \\\n",
       "0  POLYGON ((40748.934 38049.733, 40752.796 38058...        1049.0    1040.0   \n",
       "1  POLYGON ((40748.934 38049.733, 40752.796 38058...        1059.0    1050.0   \n",
       "2  POLYGON ((40748.934 38049.733, 40752.796 38058...        1055.0    1046.0   \n",
       "3  POLYGON ((36600.091 32300.772, 36609.614 32302...           NaN       NaN   \n",
       "4  POLYGON ((41583.244 36529.731, 41583.923 36539...        2254.0    2305.0   \n",
       "\n",
       "     object_type TYP_CD_DES  \n",
       "0  Road Crossing        NaN  \n",
       "1  Road Crossing        NaN  \n",
       "2  Road Crossing        NaN  \n",
       "3  Road Crossing        NaN  \n",
       "4  Road Crossing        NaN  "
      ]
     },
     "execution_count": 115,
     "metadata": {},
     "output_type": "execute_result"
    }
   ],
   "source": [
    "full_data = pd.concat([roadcrossing_near_school, roadhump_near_school, speedstrip_near_school, trafficsign_near_school, wordmarking_near_school], ignore_index=True)\n",
    "full_data.head()"
   ]
  },
  {
   "cell_type": "code",
   "execution_count": 116,
   "id": "bf78cabf",
   "metadata": {},
   "outputs": [],
   "source": [
    "full_data.drop(columns=\"buffer_100m\", inplace=True)"
   ]
  },
  {
   "cell_type": "code",
   "execution_count": 117,
   "id": "155b9a45",
   "metadata": {},
   "outputs": [],
   "source": [
    "full_data.to_file(\"schools_and_features.geojson\", driver=\"GeoJSON\")"
   ]
  },
  {
   "cell_type": "code",
   "execution_count": 118,
   "id": "ff10f871",
   "metadata": {},
   "outputs": [],
   "source": [
    "full_data.set_geometry(\"geometry\", inplace=True)"
   ]
  },
  {
   "cell_type": "code",
   "execution_count": 119,
   "id": "871cb250",
   "metadata": {},
   "outputs": [
    {
     "data": {
      "text/html": [
       "<div>\n",
       "<style scoped>\n",
       "    .dataframe tbody tr th:only-of-type {\n",
       "        vertical-align: middle;\n",
       "    }\n",
       "\n",
       "    .dataframe tbody tr th {\n",
       "        vertical-align: top;\n",
       "    }\n",
       "\n",
       "    .dataframe thead th {\n",
       "        text-align: right;\n",
       "    }\n",
       "</style>\n",
       "<table border=\"1\" class=\"dataframe\">\n",
       "  <thead>\n",
       "    <tr style=\"text-align: right;\">\n",
       "      <th></th>\n",
       "      <th>School</th>\n",
       "      <th>geometry</th>\n",
       "      <th>object_index</th>\n",
       "      <th>OBJECTID</th>\n",
       "      <th>object_type</th>\n",
       "      <th>TYP_CD_DES</th>\n",
       "    </tr>\n",
       "  </thead>\n",
       "  <tbody>\n",
       "    <tr>\n",
       "      <th>0</th>\n",
       "      <td>Tampines North Primary School</td>\n",
       "      <td>POLYGON ((40842.783 38015.203, 40867.289 38008...</td>\n",
       "      <td>1049.0</td>\n",
       "      <td>1040.0</td>\n",
       "      <td>Road Crossing</td>\n",
       "      <td>NaN</td>\n",
       "    </tr>\n",
       "    <tr>\n",
       "      <th>1</th>\n",
       "      <td>Tampines North Primary School</td>\n",
       "      <td>POLYGON ((40842.783 38015.203, 40867.289 38008...</td>\n",
       "      <td>1059.0</td>\n",
       "      <td>1050.0</td>\n",
       "      <td>Road Crossing</td>\n",
       "      <td>NaN</td>\n",
       "    </tr>\n",
       "    <tr>\n",
       "      <th>2</th>\n",
       "      <td>Tampines North Primary School</td>\n",
       "      <td>POLYGON ((40842.783 38015.203, 40867.289 38008...</td>\n",
       "      <td>1055.0</td>\n",
       "      <td>1046.0</td>\n",
       "      <td>Road Crossing</td>\n",
       "      <td>NaN</td>\n",
       "    </tr>\n",
       "    <tr>\n",
       "      <th>3</th>\n",
       "      <td>Chij (Katong) Primary School</td>\n",
       "      <td>POLYGON ((36626.088 32204.211, 36651.952 32137...</td>\n",
       "      <td>NaN</td>\n",
       "      <td>NaN</td>\n",
       "      <td>Road Crossing</td>\n",
       "      <td>NaN</td>\n",
       "    </tr>\n",
       "    <tr>\n",
       "      <th>4</th>\n",
       "      <td>Metta School</td>\n",
       "      <td>POLYGON ((41683.217 36527.433, 41853.609 36513...</td>\n",
       "      <td>2254.0</td>\n",
       "      <td>2305.0</td>\n",
       "      <td>Road Crossing</td>\n",
       "      <td>NaN</td>\n",
       "    </tr>\n",
       "  </tbody>\n",
       "</table>\n",
       "</div>"
      ],
      "text/plain": [
       "                          School  \\\n",
       "0  Tampines North Primary School   \n",
       "1  Tampines North Primary School   \n",
       "2  Tampines North Primary School   \n",
       "3   Chij (Katong) Primary School   \n",
       "4                   Metta School   \n",
       "\n",
       "                                            geometry  object_index  OBJECTID  \\\n",
       "0  POLYGON ((40842.783 38015.203, 40867.289 38008...        1049.0    1040.0   \n",
       "1  POLYGON ((40842.783 38015.203, 40867.289 38008...        1059.0    1050.0   \n",
       "2  POLYGON ((40842.783 38015.203, 40867.289 38008...        1055.0    1046.0   \n",
       "3  POLYGON ((36626.088 32204.211, 36651.952 32137...           NaN       NaN   \n",
       "4  POLYGON ((41683.217 36527.433, 41853.609 36513...        2254.0    2305.0   \n",
       "\n",
       "     object_type TYP_CD_DES  \n",
       "0  Road Crossing        NaN  \n",
       "1  Road Crossing        NaN  \n",
       "2  Road Crossing        NaN  \n",
       "3  Road Crossing        NaN  \n",
       "4  Road Crossing        NaN  "
      ]
     },
     "execution_count": 119,
     "metadata": {},
     "output_type": "execute_result"
    }
   ],
   "source": [
    "full_data.head()"
   ]
  },
  {
   "cell_type": "code",
   "execution_count": 120,
   "id": "6b77fe4a",
   "metadata": {},
   "outputs": [],
   "source": [
    "full_data.to_crs(epsg=4326, inplace=True)"
   ]
  },
  {
   "cell_type": "code",
   "execution_count": 121,
   "id": "27bd16bb",
   "metadata": {},
   "outputs": [],
   "source": [
    "full_data[\"center\"] = full_data.geometry.centroid"
   ]
  },
  {
   "cell_type": "code",
   "execution_count": 122,
   "id": "f7b89831",
   "metadata": {},
   "outputs": [],
   "source": [
    "full_data[\"longitude\"] = full_data.geometry.centroid.x\n",
    "full_data[\"latitude\"] = full_data.geometry.centroid.y"
   ]
  },
  {
   "cell_type": "code",
   "execution_count": 124,
   "id": "855743d7",
   "metadata": {},
   "outputs": [],
   "source": [
    "full_data.to_csv(\"schools_and_features.csv\", index=False)"
   ]
  }
 ],
 "metadata": {
  "kernelspec": {
   "display_name": "Python 3",
   "language": "python",
   "name": "python3"
  },
  "language_info": {
   "codemirror_mode": {
    "name": "ipython",
    "version": 3
   },
   "file_extension": ".py",
   "mimetype": "text/x-python",
   "name": "python",
   "nbconvert_exporter": "python",
   "pygments_lexer": "ipython3",
   "version": "3.13.4"
  }
 },
 "nbformat": 4,
 "nbformat_minor": 5
}
